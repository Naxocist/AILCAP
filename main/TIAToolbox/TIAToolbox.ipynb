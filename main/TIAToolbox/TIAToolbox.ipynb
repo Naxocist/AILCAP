{
 "cells": [
  {
   "cell_type": "code",
   "execution_count": 1,
   "metadata": {},
   "outputs": [],
   "source": [
    "\"\"\"Import modules required to run the Jupyter notebook.\"\"\"\n",
    "import os\n",
    "\n",
    "OPENSLIDE_PATH = 'D:/NSC2024/source-code/openslide_binary/bin'\n",
    "with os.add_dll_directory(OPENSLIDE_PATH):\n",
    "    import openslide\n",
    "    \n",
    "# Clear logger to use tiatoolbox.logger\n",
    "import logging\n",
    "import warnings\n",
    "\n",
    "if logging.getLogger().hasHandlers():\n",
    "    logging.getLogger().handlers.clear()\n",
    "\n",
    "import matplotlib as mpl\n",
    "import matplotlib.pyplot as plt\n",
    "import numpy as np\n",
    "import torch\n",
    "from matplotlib import cm\n",
    "\n",
    "from tiatoolbox import logger\n",
    "from tiatoolbox.models.architecture.unet import UNetModel\n",
    "from tiatoolbox.models.engine.semantic_segmentor import (\n",
    "    IOSegmentorConfig,\n",
    "    SemanticSegmentor,\n",
    ")\n",
    "from tiatoolbox.utils.misc import download_data, imread\n",
    "from tiatoolbox.utils.visualization import overlay_prediction_mask\n",
    "from tiatoolbox.wsicore.wsireader import WSIReader\n",
    "\n",
    "mpl.rcParams[\"figure.dpi\"] = 300  # for high resolution figure in notebook\n",
    "mpl.rcParams[\"figure.facecolor\"] = \"white\"  # To make sure text is visible in dark mode\n",
    "warnings.filterwarnings(\"ignore\")"
   ]
  },
  {
   "cell_type": "code",
   "execution_count": 8,
   "metadata": {},
   "outputs": [],
   "source": [
    "ON_GPU = False  # Should be changed to False if no cuda-enabled GPU is available"
   ]
  },
  {
   "cell_type": "code",
   "execution_count": 3,
   "metadata": {},
   "outputs": [
    {
     "name": "stdout",
     "output_type": "stream",
     "text": [
      "|2024-07-19|22:57:42.899| [INFO] Download has started. Please wait...\n",
      "|2024-07-19|22:58:59.987| [INFO] Download is complete.\n"
     ]
    }
   ],
   "source": [
    "# These file name are used for\n",
    "img_file_name = \"sample_tile.jpg\"\n",
    "wsi_file_name = \"sample_wsi.svs\"\n",
    "mini_wsi_file_name = \"mini_wsi.svs\"\n",
    "model_file_name = \"tissue_mask_model.pth\"\n",
    "\n",
    "logger.info(\"Download has started. Please wait...\")\n",
    "\n",
    "# Downloading sample image tile\n",
    "download_data(\n",
    "    \"https://tiatoolbox.dcs.warwick.ac.uk/sample_imgs/breast_tissue.jpg\",\n",
    "    img_file_name,\n",
    ")\n",
    "\n",
    "# Downloading sample whole-slide image\n",
    "download_data(\n",
    "    \"https://tiatoolbox.dcs.warwick.ac.uk/sample_wsis/wsi4_12k_12k.svs\",\n",
    "    wsi_file_name,\n",
    ")\n",
    "\n",
    "# Downloading mini whole-slide image\n",
    "download_data(\n",
    "    \"https://tiatoolbox.dcs.warwick.ac.uk/sample_wsis/CMU-1.ndpi\",\n",
    "    mini_wsi_file_name,\n",
    ")\n",
    "\n",
    "# Download external model\n",
    "download_data(\n",
    "    \"https://tiatoolbox.dcs.warwick.ac.uk//models/seg/fcn-tissue_mask.pth\",\n",
    "    model_file_name,\n",
    ")\n",
    "\n",
    "logger.info(\"Download is complete.\")"
   ]
  },
  {
   "cell_type": "code",
   "execution_count": 12,
   "metadata": {},
   "outputs": [
    {
     "name": "stderr",
     "output_type": "stream",
     "text": [
      "|2024-07-19|23:04:03.664| [WARNING] WSIPatchDataset only reads image tile at `units=\"baseline\"`. Resolutions will be converted to baseline value.\n",
      "|2024-07-19|23:04:03.760| [WARNING] WSIPatchDataset only reads image tile at `units=\"baseline\"`. Resolutions will be converted to baseline value.\n",
      "|2024-07-19|23:04:03.915| [WARNING] Raw data is None.\n",
      "|2024-07-19|23:04:03.916| [WARNING] Unknown scale (no objective_power or mpp)\n",
      "Process Batch:   0%|                                     | 0/64 [00:00<?, ?it/s]|2024-07-19|23:04:06.540| [WARNING] Raw data is None.\n",
      "Process Batch: 100%|############################| 64/64 [02:21<00:00,  2.21s/it]"
     ]
    },
    {
     "name": "stdout",
     "output_type": "stream",
     "text": [
      "|2024-07-19|23:06:27.505| [INFO] Finish: 0\n",
      "|2024-07-19|23:06:27.507| [INFO] --Input: sample_tile.jpg\n",
      "|2024-07-19|23:06:27.508| [INFO] --Output: D:\\NSC2024\\source-code\\main\\TIAToolbox\\sample_tile_results\\0\n"
     ]
    },
    {
     "name": "stderr",
     "output_type": "stream",
     "text": [
      "\n"
     ]
    }
   ],
   "source": [
    "# Tile prediction\n",
    "bcc_segmentor = SemanticSegmentor(\n",
    "    pretrained_model=\"fcn_resnet50_unet-bcss\",\n",
    "    # num_loader_workers=1,\n",
    "    batch_size=1,\n",
    ")\n",
    "\n",
    "output = bcc_segmentor.predict(\n",
    "    [img_file_name],\n",
    "    save_dir=\"sample_tile_results/\",\n",
    "    mode=\"tile\",\n",
    "    resolution=1.0,\n",
    "    units=\"baseline\",\n",
    "    patch_input_shape=[1024, 1024],\n",
    "    patch_output_shape=[512, 512],\n",
    "    stride_shape=[512, 512],\n",
    "    on_gpu=ON_GPU,\n",
    "    crash_on_exception=True,\n",
    ")"
   ]
  },
  {
   "cell_type": "code",
   "execution_count": 13,
   "metadata": {},
   "outputs": [
    {
     "name": "stdout",
     "output_type": "stream",
     "text": [
      "|2024-07-19|23:06:37.470| [INFO] Prediction method output is: sample_tile.jpg, D:\\NSC2024\\source-code\\main\\TIAToolbox\\sample_tile_results\\0\n",
      "|2024-07-19|23:06:37.601| [INFO] Raw prediction dimensions: (4000, 4000, 5)\n",
      "|2024-07-19|23:06:37.835| [INFO] Processed prediction dimensions: (4000, 4000)\n",
      "|2024-07-19|23:06:37.999| [INFO] Input image dimensions: (4000, 4000, 3)\n"
     ]
    },
    {
     "data": {
      "text/plain": [
       "Text(0.5, 0.82, 'Processed prediction map')"
      ]
     },
     "execution_count": 13,
     "metadata": {},
     "output_type": "execute_result"
    }
   ],
   "source": [
    "logger.info(\n",
    "    \"Prediction method output is: %s, %s\",\n",
    "    output[0][0],\n",
    "    output[0][1],\n",
    ")\n",
    "tile_prediction_raw = np.load(\n",
    "    output[0][1] + \".raw.0.npy\",\n",
    ")  # Loading the first prediction [0] based on the output address [1]\n",
    "logger.info(\n",
    "    \"Raw prediction dimensions: (%d, %d, %d)\",\n",
    "    tile_prediction_raw.shape[0],\n",
    "    tile_prediction_raw.shape[1],\n",
    "    tile_prediction_raw.shape[2],\n",
    ")\n",
    "\n",
    "# Simple processing of the raw prediction to generate semantic segmentation task\n",
    "tile_prediction = np.argmax(\n",
    "    tile_prediction_raw,\n",
    "    axis=-1,\n",
    ")  # select the class with highest probability\n",
    "logger.info(\n",
    "    \"Processed prediction dimensions: (%d, %d)\",\n",
    "    tile_prediction.shape[0],\n",
    "    tile_prediction.shape[1],\n",
    ")\n",
    "\n",
    "# showing the predicted semantic segmentation\n",
    "tile = imread(img_file_name)\n",
    "logger.info(\n",
    "    \"Input image dimensions: (%d, %d, %d)\",\n",
    "    tile.shape[0],\n",
    "    tile.shape[1],\n",
    "    tile.shape[2],\n",
    ")\n",
    "\n",
    "fig = plt.figure()\n",
    "label_names_dict = {\n",
    "    0: \"Tumour\",\n",
    "    1: \"Stroma\",\n",
    "    2: \"Inflamatory\",\n",
    "    3: \"Necrosis\",\n",
    "    4: \"Others\",\n",
    "}\n",
    "for i in range(5):\n",
    "    ax = plt.subplot(1, 5, i + 1)\n",
    "    (\n",
    "        plt.imshow(tile_prediction_raw[:, :, i]),\n",
    "        plt.xlabel(\n",
    "            label_names_dict[i],\n",
    "        ),\n",
    "        ax.axes.xaxis.set_ticks([]),\n",
    "        ax.axes.yaxis.set_ticks([]),\n",
    "    )\n",
    "fig.suptitle(\"Row prediction maps for different classes\", y=0.65)\n",
    "\n",
    "# showing processed results\n",
    "fig2 = plt.figure()\n",
    "ax1 = plt.subplot(1, 2, 1), plt.imshow(tile), plt.axis(\"off\")\n",
    "ax2 = plt.subplot(1, 2, 2), plt.imshow(tile_prediction), plt.axis(\"off\")\n",
    "fig2.suptitle(\"Processed prediction map\", y=0.82)"
   ]
  },
  {
   "cell_type": "code",
   "execution_count": null,
   "metadata": {},
   "outputs": [],
   "source": []
  }
 ],
 "metadata": {
  "kernelspec": {
   "display_name": ".venv",
   "language": "python",
   "name": "python3"
  },
  "language_info": {
   "codemirror_mode": {
    "name": "ipython",
    "version": 3
   },
   "file_extension": ".py",
   "mimetype": "text/x-python",
   "name": "python",
   "nbconvert_exporter": "python",
   "pygments_lexer": "ipython3",
   "version": "3.12.4"
  }
 },
 "nbformat": 4,
 "nbformat_minor": 2
}
