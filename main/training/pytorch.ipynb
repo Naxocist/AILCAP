{
 "cells": [
  {
   "cell_type": "code",
<<<<<<< HEAD
   "execution_count": null,
   "metadata": {},
   "outputs": [],
=======
   "execution_count": 71,
   "metadata": {},
   "outputs": [
    {
     "data": {
      "text/plain": [
       "'2.1.2+cpu'"
      ]
     },
     "execution_count": 71,
     "metadata": {},
     "output_type": "execute_result"
    }
   ],
>>>>>>> ac884e0 (Update)
   "source": [
    "import os\n",
    "\n",
    "import matplotlib.pyplot as plt\n",
    "from PIL import Image\n",
    "import numpy as np\n",
    "from tifffile import imread\n",
    "from tqdm import tqdm\n",
    "\n",
    "from pathlib import Path\n",
    "\n",
    "import glob\n",
    "\n",
    "# Import PyTorch and matplotlib\n",
    "import torch\n",
    "from torch.utils.data import Dataset, DataLoader, random_split\n",
    "from torchvision import transforms\n",
    "\n",
    "# Check PyTorch version\n",
    "torch.__version__"
   ]
  },
  {
   "cell_type": "code",
<<<<<<< HEAD
   "execution_count": null,
=======
   "execution_count": 102,
>>>>>>> ac884e0 (Update)
   "metadata": {},
   "outputs": [],
   "source": [
    "# Setup device agnostic code\n",
    "device = \"cuda\" if torch.cuda.is_available() else \"cpu\"\n",
    "print(f\"Using device: {device}\")"
   ]
  },
  {
   "cell_type": "code",
<<<<<<< HEAD
   "execution_count": null,
=======
   "execution_count": 103,
>>>>>>> ac884e0 (Update)
   "metadata": {},
   "outputs": [],
   "source": [
    "# helper function for data visualization\n",
    "def visualize(**images):\n",
    "    \"\"\"PLot images in one row.\"\"\"\n",
    "    n = len(images)\n",
    "    plt.figure(figsize=(16, 5))\n",
    "    for i, (name, image) in enumerate(images.items()):\n",
    "        plt.subplot(1, n, i + 1)\n",
    "        plt.xticks([])\n",
    "        plt.yticks([])\n",
    "        plt.title(' '.join(name.split('_')).title())\n",
    "        plt.imshow(image)\n",
    "    plt.show()"
   ]
  },
  {
   "cell_type": "markdown",
   "metadata": {},
   "source": [
    "# Dataset pipeline"
   ]
  },
  {
   "cell_type": "code",
<<<<<<< HEAD
   "execution_count": null,
=======
   "execution_count": 74,
>>>>>>> ac884e0 (Update)
   "metadata": {},
   "outputs": [],
   "source": [
    "class CustomDataset(Dataset):\n",
    "\tdef __init__(self, root) -> None:\n",
    "\t\tself.root = root\n",
    "\t\tself.transforms = transforms.Compose([\n",
    "\t\t\ttransforms.ToTensor(),\n",
    "\t\t])\n",
    "\n",
    "\t\tself.images_path = glob.glob(str(root / \"images/*\"))\n",
    "\t\tself.masks_path = glob.glob(str(root / \"masks/*\"))\n",
    "\t\n",
    "\n",
    "\tdef __getitem__(self, index):\n",
    "\t\timage = np.asarray(imread(self.images_path[index])) # H W C\n",
    "\t\tmask = np.asarray(imread(self.masks_path[index])) # C H W\n",
    "\n",
    "\t\tt_image = self.transforms(image) # C H W\n",
    "\t\tt_mask = torch.permute(self.transforms(mask), (1, 2, 0)) # C H W\n",
    "\n",
    "\t\treturn t_image, t_mask\n",
    "\t\n",
    "\n",
    "\tdef __len__(self):\n",
    "\t\treturn len(self.images_path)"
   ]
  },
  {
   "cell_type": "code",
<<<<<<< HEAD
   "execution_count": null,
=======
   "execution_count": 104,
>>>>>>> ac884e0 (Update)
   "metadata": {},
   "outputs": [],
   "source": [
    "base = Path(\"E:/test_extract/export\")\n",
    "\n",
    "SIZE = 512\n",
    "\n",
    "data_path = base / str(SIZE)\n",
    "final_path = data_path / \"1\"\n",
    "\n",
    "# for i in os.walk(data_path):\n",
    "# \tpath, subpaths, items = i\n",
    "\n",
    "# \tprint(f\"{path} has {len(subpaths)} subpaths and {len(items)} items\")\n"
   ]
  },
  {
   "cell_type": "code",
<<<<<<< HEAD
   "execution_count": null,
=======
   "execution_count": 105,
>>>>>>> ac884e0 (Update)
   "metadata": {},
   "outputs": [],
   "source": [
    "dataset = CustomDataset(root=final_path)"
   ]
  },
  {
   "cell_type": "code",
<<<<<<< HEAD
   "execution_count": null,
   "metadata": {},
   "outputs": [],
=======
   "execution_count": 106,
   "metadata": {},
   "outputs": [
    {
     "name": "stdout",
     "output_type": "stream",
     "text": [
      "Image shape:  torch.Size([3, 512, 512])\n",
      "Mask shape:  torch.Size([3, 512, 512])  |  Mask unique:  [0. 1.]\n"
     ]
    },
    {
     "ename": "TypeError",
     "evalue": "Invalid shape (3, 512, 512) for image data",
     "output_type": "error",
     "traceback": [
      "\u001b[1;31m---------------------------------------------------------------------------\u001b[0m",
      "\u001b[1;31mTypeError\u001b[0m                                 Traceback (most recent call last)",
      "Cell \u001b[1;32mIn[106], line 9\u001b[0m\n\u001b[0;32m      6\u001b[0m \u001b[38;5;28mprint\u001b[39m(\u001b[38;5;124m\"\u001b[39m\u001b[38;5;124mImage shape: \u001b[39m\u001b[38;5;124m\"\u001b[39m, image\u001b[38;5;241m.\u001b[39mshape)\n\u001b[0;32m      7\u001b[0m \u001b[38;5;28mprint\u001b[39m(\u001b[38;5;124m\"\u001b[39m\u001b[38;5;124mMask shape: \u001b[39m\u001b[38;5;124m\"\u001b[39m, mask\u001b[38;5;241m.\u001b[39mshape, \u001b[38;5;124m\"\u001b[39m\u001b[38;5;124m | \u001b[39m\u001b[38;5;124m\"\u001b[39m, \u001b[38;5;124m\"\u001b[39m\u001b[38;5;124mMask unique: \u001b[39m\u001b[38;5;124m\"\u001b[39m, np\u001b[38;5;241m.\u001b[39munique(mask))\n\u001b[1;32m----> 9\u001b[0m \u001b[43mvisualize\u001b[49m\u001b[43m(\u001b[49m\n\u001b[0;32m     10\u001b[0m \u001b[43m    \u001b[49m\u001b[43mimage\u001b[49m\u001b[38;5;241;43m=\u001b[39;49m\u001b[43mimage\u001b[49m\u001b[43m,\u001b[49m\n\u001b[0;32m     11\u001b[0m \u001b[43m    \u001b[49m\u001b[43mmask_0\u001b[49m\u001b[43m \u001b[49m\u001b[38;5;241;43m=\u001b[39;49m\u001b[43m \u001b[49m\u001b[43mmask\u001b[49m\u001b[43m[\u001b[49m\u001b[38;5;241;43m0\u001b[39;49m\u001b[43m]\u001b[49m\u001b[43m,\u001b[49m\n\u001b[0;32m     12\u001b[0m \u001b[43m    \u001b[49m\u001b[43mmask_1\u001b[49m\u001b[43m \u001b[49m\u001b[38;5;241;43m=\u001b[39;49m\u001b[43m \u001b[49m\u001b[43mmask\u001b[49m\u001b[43m[\u001b[49m\u001b[38;5;241;43m1\u001b[39;49m\u001b[43m]\u001b[49m\u001b[43m,\u001b[49m\n\u001b[0;32m     13\u001b[0m \u001b[43m    \u001b[49m\u001b[43mmask_2\u001b[49m\u001b[43m \u001b[49m\u001b[38;5;241;43m=\u001b[39;49m\u001b[43m \u001b[49m\u001b[43mmask\u001b[49m\u001b[43m[\u001b[49m\u001b[38;5;241;43m2\u001b[39;49m\u001b[43m]\u001b[49m\n\u001b[0;32m     14\u001b[0m \u001b[43m)\u001b[49m\n",
      "Cell \u001b[1;32mIn[103], line 11\u001b[0m, in \u001b[0;36mvisualize\u001b[1;34m(**images)\u001b[0m\n\u001b[0;32m      9\u001b[0m     plt\u001b[38;5;241m.\u001b[39myticks([])\n\u001b[0;32m     10\u001b[0m     plt\u001b[38;5;241m.\u001b[39mtitle(\u001b[38;5;124m'\u001b[39m\u001b[38;5;124m \u001b[39m\u001b[38;5;124m'\u001b[39m\u001b[38;5;241m.\u001b[39mjoin(name\u001b[38;5;241m.\u001b[39msplit(\u001b[38;5;124m'\u001b[39m\u001b[38;5;124m_\u001b[39m\u001b[38;5;124m'\u001b[39m))\u001b[38;5;241m.\u001b[39mtitle())\n\u001b[1;32m---> 11\u001b[0m     \u001b[43mplt\u001b[49m\u001b[38;5;241;43m.\u001b[39;49m\u001b[43mimshow\u001b[49m\u001b[43m(\u001b[49m\u001b[43mimage\u001b[49m\u001b[43m)\u001b[49m\n\u001b[0;32m     12\u001b[0m plt\u001b[38;5;241m.\u001b[39mshow()\n",
      "File \u001b[1;32md:\\OneDrive-CMU\\Desktop_Dell\\PROJECT\\NSC2024\\AILCAP\\.venv\\Lib\\site-packages\\matplotlib\\pyplot.py:3343\u001b[0m, in \u001b[0;36mimshow\u001b[1;34m(X, cmap, norm, aspect, interpolation, alpha, vmin, vmax, origin, extent, interpolation_stage, filternorm, filterrad, resample, url, data, **kwargs)\u001b[0m\n\u001b[0;32m   3322\u001b[0m \u001b[38;5;129m@_copy_docstring_and_deprecators\u001b[39m(Axes\u001b[38;5;241m.\u001b[39mimshow)\n\u001b[0;32m   3323\u001b[0m \u001b[38;5;28;01mdef\u001b[39;00m \u001b[38;5;21mimshow\u001b[39m(\n\u001b[0;32m   3324\u001b[0m     X: ArrayLike \u001b[38;5;241m|\u001b[39m PIL\u001b[38;5;241m.\u001b[39mImage\u001b[38;5;241m.\u001b[39mImage,\n\u001b[1;32m   (...)\u001b[0m\n\u001b[0;32m   3341\u001b[0m     \u001b[38;5;241m*\u001b[39m\u001b[38;5;241m*\u001b[39mkwargs,\n\u001b[0;32m   3342\u001b[0m ) \u001b[38;5;241m-\u001b[39m\u001b[38;5;241m>\u001b[39m AxesImage:\n\u001b[1;32m-> 3343\u001b[0m     __ret \u001b[38;5;241m=\u001b[39m \u001b[43mgca\u001b[49m\u001b[43m(\u001b[49m\u001b[43m)\u001b[49m\u001b[38;5;241;43m.\u001b[39;49m\u001b[43mimshow\u001b[49m\u001b[43m(\u001b[49m\n\u001b[0;32m   3344\u001b[0m \u001b[43m        \u001b[49m\u001b[43mX\u001b[49m\u001b[43m,\u001b[49m\n\u001b[0;32m   3345\u001b[0m \u001b[43m        \u001b[49m\u001b[43mcmap\u001b[49m\u001b[38;5;241;43m=\u001b[39;49m\u001b[43mcmap\u001b[49m\u001b[43m,\u001b[49m\n\u001b[0;32m   3346\u001b[0m \u001b[43m        \u001b[49m\u001b[43mnorm\u001b[49m\u001b[38;5;241;43m=\u001b[39;49m\u001b[43mnorm\u001b[49m\u001b[43m,\u001b[49m\n\u001b[0;32m   3347\u001b[0m \u001b[43m        \u001b[49m\u001b[43maspect\u001b[49m\u001b[38;5;241;43m=\u001b[39;49m\u001b[43maspect\u001b[49m\u001b[43m,\u001b[49m\n\u001b[0;32m   3348\u001b[0m \u001b[43m        \u001b[49m\u001b[43minterpolation\u001b[49m\u001b[38;5;241;43m=\u001b[39;49m\u001b[43minterpolation\u001b[49m\u001b[43m,\u001b[49m\n\u001b[0;32m   3349\u001b[0m \u001b[43m        \u001b[49m\u001b[43malpha\u001b[49m\u001b[38;5;241;43m=\u001b[39;49m\u001b[43malpha\u001b[49m\u001b[43m,\u001b[49m\n\u001b[0;32m   3350\u001b[0m \u001b[43m        \u001b[49m\u001b[43mvmin\u001b[49m\u001b[38;5;241;43m=\u001b[39;49m\u001b[43mvmin\u001b[49m\u001b[43m,\u001b[49m\n\u001b[0;32m   3351\u001b[0m \u001b[43m        \u001b[49m\u001b[43mvmax\u001b[49m\u001b[38;5;241;43m=\u001b[39;49m\u001b[43mvmax\u001b[49m\u001b[43m,\u001b[49m\n\u001b[0;32m   3352\u001b[0m \u001b[43m        \u001b[49m\u001b[43morigin\u001b[49m\u001b[38;5;241;43m=\u001b[39;49m\u001b[43morigin\u001b[49m\u001b[43m,\u001b[49m\n\u001b[0;32m   3353\u001b[0m \u001b[43m        \u001b[49m\u001b[43mextent\u001b[49m\u001b[38;5;241;43m=\u001b[39;49m\u001b[43mextent\u001b[49m\u001b[43m,\u001b[49m\n\u001b[0;32m   3354\u001b[0m \u001b[43m        \u001b[49m\u001b[43minterpolation_stage\u001b[49m\u001b[38;5;241;43m=\u001b[39;49m\u001b[43minterpolation_stage\u001b[49m\u001b[43m,\u001b[49m\n\u001b[0;32m   3355\u001b[0m \u001b[43m        \u001b[49m\u001b[43mfilternorm\u001b[49m\u001b[38;5;241;43m=\u001b[39;49m\u001b[43mfilternorm\u001b[49m\u001b[43m,\u001b[49m\n\u001b[0;32m   3356\u001b[0m \u001b[43m        \u001b[49m\u001b[43mfilterrad\u001b[49m\u001b[38;5;241;43m=\u001b[39;49m\u001b[43mfilterrad\u001b[49m\u001b[43m,\u001b[49m\n\u001b[0;32m   3357\u001b[0m \u001b[43m        \u001b[49m\u001b[43mresample\u001b[49m\u001b[38;5;241;43m=\u001b[39;49m\u001b[43mresample\u001b[49m\u001b[43m,\u001b[49m\n\u001b[0;32m   3358\u001b[0m \u001b[43m        \u001b[49m\u001b[43murl\u001b[49m\u001b[38;5;241;43m=\u001b[39;49m\u001b[43murl\u001b[49m\u001b[43m,\u001b[49m\n\u001b[0;32m   3359\u001b[0m \u001b[43m        \u001b[49m\u001b[38;5;241;43m*\u001b[39;49m\u001b[38;5;241;43m*\u001b[39;49m\u001b[43m(\u001b[49m\u001b[43m{\u001b[49m\u001b[38;5;124;43m\"\u001b[39;49m\u001b[38;5;124;43mdata\u001b[39;49m\u001b[38;5;124;43m\"\u001b[39;49m\u001b[43m:\u001b[49m\u001b[43m \u001b[49m\u001b[43mdata\u001b[49m\u001b[43m}\u001b[49m\u001b[43m \u001b[49m\u001b[38;5;28;43;01mif\u001b[39;49;00m\u001b[43m \u001b[49m\u001b[43mdata\u001b[49m\u001b[43m \u001b[49m\u001b[38;5;129;43;01mis\u001b[39;49;00m\u001b[43m \u001b[49m\u001b[38;5;129;43;01mnot\u001b[39;49;00m\u001b[43m \u001b[49m\u001b[38;5;28;43;01mNone\u001b[39;49;00m\u001b[43m \u001b[49m\u001b[38;5;28;43;01melse\u001b[39;49;00m\u001b[43m \u001b[49m\u001b[43m{\u001b[49m\u001b[43m}\u001b[49m\u001b[43m)\u001b[49m\u001b[43m,\u001b[49m\n\u001b[0;32m   3360\u001b[0m \u001b[43m        \u001b[49m\u001b[38;5;241;43m*\u001b[39;49m\u001b[38;5;241;43m*\u001b[39;49m\u001b[43mkwargs\u001b[49m\u001b[43m,\u001b[49m\n\u001b[0;32m   3361\u001b[0m \u001b[43m    \u001b[49m\u001b[43m)\u001b[49m\n\u001b[0;32m   3362\u001b[0m     sci(__ret)\n\u001b[0;32m   3363\u001b[0m     \u001b[38;5;28;01mreturn\u001b[39;00m __ret\n",
      "File \u001b[1;32md:\\OneDrive-CMU\\Desktop_Dell\\PROJECT\\NSC2024\\AILCAP\\.venv\\Lib\\site-packages\\matplotlib\\__init__.py:1478\u001b[0m, in \u001b[0;36m_preprocess_data.<locals>.inner\u001b[1;34m(ax, data, *args, **kwargs)\u001b[0m\n\u001b[0;32m   1475\u001b[0m \u001b[38;5;129m@functools\u001b[39m\u001b[38;5;241m.\u001b[39mwraps(func)\n\u001b[0;32m   1476\u001b[0m \u001b[38;5;28;01mdef\u001b[39;00m \u001b[38;5;21minner\u001b[39m(ax, \u001b[38;5;241m*\u001b[39margs, data\u001b[38;5;241m=\u001b[39m\u001b[38;5;28;01mNone\u001b[39;00m, \u001b[38;5;241m*\u001b[39m\u001b[38;5;241m*\u001b[39mkwargs):\n\u001b[0;32m   1477\u001b[0m     \u001b[38;5;28;01mif\u001b[39;00m data \u001b[38;5;129;01mis\u001b[39;00m \u001b[38;5;28;01mNone\u001b[39;00m:\n\u001b[1;32m-> 1478\u001b[0m         \u001b[38;5;28;01mreturn\u001b[39;00m \u001b[43mfunc\u001b[49m\u001b[43m(\u001b[49m\u001b[43max\u001b[49m\u001b[43m,\u001b[49m\u001b[43m \u001b[49m\u001b[38;5;241;43m*\u001b[39;49m\u001b[38;5;28;43mmap\u001b[39;49m\u001b[43m(\u001b[49m\u001b[43msanitize_sequence\u001b[49m\u001b[43m,\u001b[49m\u001b[43m \u001b[49m\u001b[43margs\u001b[49m\u001b[43m)\u001b[49m\u001b[43m,\u001b[49m\u001b[43m \u001b[49m\u001b[38;5;241;43m*\u001b[39;49m\u001b[38;5;241;43m*\u001b[39;49m\u001b[43mkwargs\u001b[49m\u001b[43m)\u001b[49m\n\u001b[0;32m   1480\u001b[0m     bound \u001b[38;5;241m=\u001b[39m new_sig\u001b[38;5;241m.\u001b[39mbind(ax, \u001b[38;5;241m*\u001b[39margs, \u001b[38;5;241m*\u001b[39m\u001b[38;5;241m*\u001b[39mkwargs)\n\u001b[0;32m   1481\u001b[0m     auto_label \u001b[38;5;241m=\u001b[39m (bound\u001b[38;5;241m.\u001b[39marguments\u001b[38;5;241m.\u001b[39mget(label_namer)\n\u001b[0;32m   1482\u001b[0m                   \u001b[38;5;129;01mor\u001b[39;00m bound\u001b[38;5;241m.\u001b[39mkwargs\u001b[38;5;241m.\u001b[39mget(label_namer))\n",
      "File \u001b[1;32md:\\OneDrive-CMU\\Desktop_Dell\\PROJECT\\NSC2024\\AILCAP\\.venv\\Lib\\site-packages\\matplotlib\\axes\\_axes.py:5756\u001b[0m, in \u001b[0;36mAxes.imshow\u001b[1;34m(self, X, cmap, norm, aspect, interpolation, alpha, vmin, vmax, origin, extent, interpolation_stage, filternorm, filterrad, resample, url, **kwargs)\u001b[0m\n\u001b[0;32m   5753\u001b[0m \u001b[38;5;28;01mif\u001b[39;00m aspect \u001b[38;5;129;01mis\u001b[39;00m \u001b[38;5;129;01mnot\u001b[39;00m \u001b[38;5;28;01mNone\u001b[39;00m:\n\u001b[0;32m   5754\u001b[0m     \u001b[38;5;28mself\u001b[39m\u001b[38;5;241m.\u001b[39mset_aspect(aspect)\n\u001b[1;32m-> 5756\u001b[0m \u001b[43mim\u001b[49m\u001b[38;5;241;43m.\u001b[39;49m\u001b[43mset_data\u001b[49m\u001b[43m(\u001b[49m\u001b[43mX\u001b[49m\u001b[43m)\u001b[49m\n\u001b[0;32m   5757\u001b[0m im\u001b[38;5;241m.\u001b[39mset_alpha(alpha)\n\u001b[0;32m   5758\u001b[0m \u001b[38;5;28;01mif\u001b[39;00m im\u001b[38;5;241m.\u001b[39mget_clip_path() \u001b[38;5;129;01mis\u001b[39;00m \u001b[38;5;28;01mNone\u001b[39;00m:\n\u001b[0;32m   5759\u001b[0m     \u001b[38;5;66;03m# image does not already have clipping set, clip to axes patch\u001b[39;00m\n",
      "File \u001b[1;32md:\\OneDrive-CMU\\Desktop_Dell\\PROJECT\\NSC2024\\AILCAP\\.venv\\Lib\\site-packages\\matplotlib\\image.py:723\u001b[0m, in \u001b[0;36m_ImageBase.set_data\u001b[1;34m(self, A)\u001b[0m\n\u001b[0;32m    721\u001b[0m \u001b[38;5;28;01mif\u001b[39;00m \u001b[38;5;28misinstance\u001b[39m(A, PIL\u001b[38;5;241m.\u001b[39mImage\u001b[38;5;241m.\u001b[39mImage):\n\u001b[0;32m    722\u001b[0m     A \u001b[38;5;241m=\u001b[39m pil_to_array(A)  \u001b[38;5;66;03m# Needed e.g. to apply png palette.\u001b[39;00m\n\u001b[1;32m--> 723\u001b[0m \u001b[38;5;28mself\u001b[39m\u001b[38;5;241m.\u001b[39m_A \u001b[38;5;241m=\u001b[39m \u001b[38;5;28;43mself\u001b[39;49m\u001b[38;5;241;43m.\u001b[39;49m\u001b[43m_normalize_image_array\u001b[49m\u001b[43m(\u001b[49m\u001b[43mA\u001b[49m\u001b[43m)\u001b[49m\n\u001b[0;32m    724\u001b[0m \u001b[38;5;28mself\u001b[39m\u001b[38;5;241m.\u001b[39m_imcache \u001b[38;5;241m=\u001b[39m \u001b[38;5;28;01mNone\u001b[39;00m\n\u001b[0;32m    725\u001b[0m \u001b[38;5;28mself\u001b[39m\u001b[38;5;241m.\u001b[39mstale \u001b[38;5;241m=\u001b[39m \u001b[38;5;28;01mTrue\u001b[39;00m\n",
      "File \u001b[1;32md:\\OneDrive-CMU\\Desktop_Dell\\PROJECT\\NSC2024\\AILCAP\\.venv\\Lib\\site-packages\\matplotlib\\image.py:693\u001b[0m, in \u001b[0;36m_ImageBase._normalize_image_array\u001b[1;34m(A)\u001b[0m\n\u001b[0;32m    691\u001b[0m     A \u001b[38;5;241m=\u001b[39m A\u001b[38;5;241m.\u001b[39msqueeze(\u001b[38;5;241m-\u001b[39m\u001b[38;5;241m1\u001b[39m)  \u001b[38;5;66;03m# If just (M, N, 1), assume scalar and apply colormap.\u001b[39;00m\n\u001b[0;32m    692\u001b[0m \u001b[38;5;28;01mif\u001b[39;00m \u001b[38;5;129;01mnot\u001b[39;00m (A\u001b[38;5;241m.\u001b[39mndim \u001b[38;5;241m==\u001b[39m \u001b[38;5;241m2\u001b[39m \u001b[38;5;129;01mor\u001b[39;00m A\u001b[38;5;241m.\u001b[39mndim \u001b[38;5;241m==\u001b[39m \u001b[38;5;241m3\u001b[39m \u001b[38;5;129;01mand\u001b[39;00m A\u001b[38;5;241m.\u001b[39mshape[\u001b[38;5;241m-\u001b[39m\u001b[38;5;241m1\u001b[39m] \u001b[38;5;129;01min\u001b[39;00m [\u001b[38;5;241m3\u001b[39m, \u001b[38;5;241m4\u001b[39m]):\n\u001b[1;32m--> 693\u001b[0m     \u001b[38;5;28;01mraise\u001b[39;00m \u001b[38;5;167;01mTypeError\u001b[39;00m(\u001b[38;5;124mf\u001b[39m\u001b[38;5;124m\"\u001b[39m\u001b[38;5;124mInvalid shape \u001b[39m\u001b[38;5;132;01m{\u001b[39;00mA\u001b[38;5;241m.\u001b[39mshape\u001b[38;5;132;01m}\u001b[39;00m\u001b[38;5;124m for image data\u001b[39m\u001b[38;5;124m\"\u001b[39m)\n\u001b[0;32m    694\u001b[0m \u001b[38;5;28;01mif\u001b[39;00m A\u001b[38;5;241m.\u001b[39mndim \u001b[38;5;241m==\u001b[39m \u001b[38;5;241m3\u001b[39m:\n\u001b[0;32m    695\u001b[0m     \u001b[38;5;66;03m# If the input data has values outside the valid range (after\u001b[39;00m\n\u001b[0;32m    696\u001b[0m     \u001b[38;5;66;03m# normalisation), we issue a warning and then clip X to the bounds\u001b[39;00m\n\u001b[0;32m    697\u001b[0m     \u001b[38;5;66;03m# - otherwise casting wraps extreme values, hiding outliers and\u001b[39;00m\n\u001b[0;32m    698\u001b[0m     \u001b[38;5;66;03m# making reliable interpretation impossible.\u001b[39;00m\n\u001b[0;32m    699\u001b[0m     high \u001b[38;5;241m=\u001b[39m \u001b[38;5;241m255\u001b[39m \u001b[38;5;28;01mif\u001b[39;00m np\u001b[38;5;241m.\u001b[39missubdtype(A\u001b[38;5;241m.\u001b[39mdtype, np\u001b[38;5;241m.\u001b[39minteger) \u001b[38;5;28;01melse\u001b[39;00m \u001b[38;5;241m1\u001b[39m\n",
      "\u001b[1;31mTypeError\u001b[0m: Invalid shape (3, 512, 512) for image data"
     ]
    },
    {
     "data": {
      "image/png": "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",
      "text/plain": [
       "<Figure size 1600x500 with 1 Axes>"
      ]
     },
     "metadata": {},
     "output_type": "display_data"
    }
   ],
>>>>>>> ac884e0 (Update)
   "source": [
    "from random import randint\n",
    "r = randint(0, len(dataset)-1)\n",
    "\n",
    "image, mask = dataset[r]\n",
    "\n",
    "print(\"Image shape: \", image.shape)\n",
    "print(\"Mask shape: \", mask.shape, \" | \", \"Mask unique: \", np.unique(mask))\n",
    "\n",
    "visualize(\n",
    "    image=image,\n",
    "    mask_0 = mask[0],\n",
    "    mask_1 = mask[1],\n",
    "    mask_2 = mask[2]\n",
    ")"
   ]
  },
  {
   "cell_type": "code",
<<<<<<< HEAD
   "execution_count": null,
=======
   "execution_count": 107,
>>>>>>> ac884e0 (Update)
   "metadata": {},
   "outputs": [],
   "source": [
    "\n",
    "    \n",
    "dataloader = DataLoader(dataset=dataset, batch_size=32, shuffle=True, num_workers=0)\n",
    "\n",
    "images, masks = next(iter(dataloader))\n",
    "\n",
    "print(images.shape, masks.shape)\n"
   ]
  },
  {
   "cell_type": "code",
<<<<<<< HEAD
   "execution_count": null,
=======
   "execution_count": 108,
>>>>>>> ac884e0 (Update)
   "metadata": {},
   "outputs": [],
   "source": [
    "for image, mask in dataloader:\n",
    "    \n",
    "    print(image.shape, mask.shape)"
   ]
  },
  {
   "cell_type": "markdown",
   "metadata": {},
   "source": [
    "# Define the model"
   ]
  },
  {
   "cell_type": "code",
<<<<<<< HEAD
   "execution_count": null,
=======
   "execution_count": 99,
>>>>>>> ac884e0 (Update)
   "metadata": {},
   "outputs": [],
   "source": [
    "import segmentation_models_pytorch as smp\n",
    "from segmentation_models_pytorch.encoders import get_preprocessing_fn\n",
    "\n",
    "model = smp.Unet(\n",
    "    encoder_name=\"resnet34\",        # choose encoder, e.g. mobilenet_v2 or efficientnet-b7\n",
    "    encoder_weights=\"imagenet\",     # use `imagenet` pre-trained weights for encoder initialization\n",
    "    in_channels=3,                  # model input channels (1 for gray-scale images, 3 for RGB, etc.)\n",
    "    classes=3,                      # model output channels (number of classes in your dataset)\n",
    "    activation=\"sigmoid\"\n",
    ")\n",
    "\n",
    "\n",
    "preprocess_input = get_preprocessing_fn('resnet34', pretrained='imagenet')\n"
   ]
  },
  {
   "cell_type": "code",
<<<<<<< HEAD
   "execution_count": 1,
=======
   "execution_count": 81,
>>>>>>> ac884e0 (Update)
   "metadata": {},
   "outputs": [
    {
     "name": "stdout",
     "output_type": "stream",
     "text": [
      "[PhysicalDevice(name='/physical_device:GPU:0', device_type='GPU')]\n"
     ]
    }
   ],
   "source": [
    "import tensorflow as tf; print(tf.config.list_physical_devices('GPU'))"
   ]
  },
  {
   "cell_type": "code",
<<<<<<< HEAD
   "execution_count": null,
=======
   "execution_count": 95,
>>>>>>> ac884e0 (Update)
   "metadata": {},
   "outputs": [],
   "source": [
    "eps = 1e-5\n",
    "included_classes = [0, 1, 2]\n",
    "\n",
    "jaccard = smp.losses.JaccardLoss(mode=\"multilabel\")\n",
    "\n",
    "diceloss = smp.losses.DiceLoss(mode=\"multilabel\", eps=eps, ignore_index=0)\n",
    "\n",
    "focalloss = smp.losses.FocalLoss(mode=\"multilabel\")\n"
   ]
  },
  {
   "cell_type": "code",
<<<<<<< HEAD
   "execution_count": null,
=======
   "execution_count": 109,
>>>>>>> ac884e0 (Update)
   "metadata": {},
   "outputs": [],
   "source": [
    "# Optimizer \n",
    "optim = torch.optim.Adam(params=model.parameters(), lr=1e-2)"
   ]
  },
  {
   "cell_type": "code",
<<<<<<< HEAD
   "execution_count": null,
   "metadata": {},
   "outputs": [],
=======
   "execution_count": 133,
   "metadata": {},
   "outputs": [
    {
     "name": "stdout",
     "output_type": "stream",
     "text": [
      "torch.Size([1, 3, 512, 512]) torch.Size([1, 3, 512, 512])\n",
      "torch.Size([1, 3, 512, 512]) [3.0787513e-07 3.0862651e-07 3.1058144e-07 ... 9.9999976e-01 9.9999988e-01\n",
      " 1.0000000e+00]\n"
     ]
    },
    {
     "data": {
      "image/png": "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",
      "text/plain": [
       "<Figure size 1600x500 with 7 Axes>"
      ]
     },
     "metadata": {},
     "output_type": "display_data"
    },
    {
     "name": "stdout",
     "output_type": "stream",
     "text": [
      "tensor(0.3280)\n"
     ]
    }
   ],
>>>>>>> ac884e0 (Update)
   "source": [
    "# Sanity check\n",
    "from random import choice, randint\n",
    "with torch.inference_mode():\n",
    "\tdataloader_list = list(dataloader)\n",
    "\n",
    "\trandom_batch = choice(dataloader_list)\n",
    "\trandom_index = randint(0, len(random_batch[0]) - 1)\n",
    "\timage, mask = random_batch[0][random_index], random_batch[1][random_index]\n",
    "\n",
    "\n",
    "\timage = image.unsqueeze(0)\n",
    "\tmask = mask.unsqueeze(0)\n",
    "\n",
    "\tprint(image.shape, mask.shape)\n",
    "\t# image = preprocess_input(image)\n",
    "\ty_pred = model(image)\n",
    "\tprint(y_pred.shape, np.unique(y_pred))\n",
    "\n",
    "\n",
    "\tvisualize(\n",
    "\t\timg=torch.permute(image[0], (1, 2, 0)),\n",
    "\t\ta=y_pred[0][0],\n",
    "\t\tb=y_pred[0][1],\n",
    "\t\tc=y_pred[0][2],\n",
    "\t\tA=mask[0][0],\n",
    "\t\tB=mask[0][1],\n",
    "\t\tC=mask[0][2],\n",
    "\t)\n",
    "\n",
    "\tloss = jaccard(y_pred, mask)\n",
    "\tprint(loss)\n"
   ]
  },
  {
   "cell_type": "markdown",
   "metadata": {},
   "source": [
    "# Define training process"
   ]
  },
  {
   "cell_type": "code",
<<<<<<< HEAD
   "execution_count": null,
=======
   "execution_count": 134,
>>>>>>> ac884e0 (Update)
   "metadata": {},
   "outputs": [],
   "source": [
    "\n",
    "def train(model, train_loader, val_loader, criterion, optimizer, epochs):\n",
    "\tfor epoch in range(epochs):\n",
    "\t\tmodel.train()\n",
    "\t\trunning_loss = 0\n",
    "\n",
    "\t\tfor image, y_true in tqdm(train_loader):\n",
    "\t\t\t# images.to(device)\n",
    "\t\t\t# masks.to(device)\n",
    "\n",
    "\t\t\timage = image.unsqueeze(0) # B C H W\n",
    "\t\t\ty_true = y_true.unsqueeze(0) # B C H W\n",
    "\t\t\tprint(f\"Image shape: {image.shape} | Mask shape: {y_true.shape}\")\n",
    "\n",
    "\t\t\ty_pred = model(image)\n",
    "\n",
    "\t\t\tprint(f\"Predicted shape: {y_pred.shape}\")\n",
    "\n",
    "\t\t\tloss = criterion(y_pred, y_true)\n",
    "\t\t\tprint(loss)\n",
    "\t\t\trunning_loss += loss\n",
    "\n",
    "\t\t\toptimizer.zero_grad()\n",
    "\n",
    "\t\t\tloss.backward()\n",
    "\n",
    "\t\t\toptimizer.step()\n",
    "\n",
    "\t\t\t# model.eval()\n",
    "\n",
    "\n",
    "\t\tepoch_loss = running_loss / len(train_loader)\n",
    "\t\t\n",
    "\t\tprint(f'Epoch [{epoch+1}/{epochs}], Loss: {epoch_loss:.4f}')"
   ]
  },
  {
   "cell_type": "code",
<<<<<<< HEAD
   "execution_count": null,
   "metadata": {},
   "outputs": [],
=======
   "execution_count": 135,
   "metadata": {},
   "outputs": [
    {
     "name": "stderr",
     "output_type": "stream",
     "text": [
      "  0%|          | 0/51 [00:00<?, ?it/s]"
     ]
    },
    {
     "name": "stdout",
     "output_type": "stream",
     "text": [
      "Image shape: torch.Size([1, 3, 512, 512]) | Mask shape: torch.Size([1, 3, 512, 512])\n",
      "Predicted shape: torch.Size([1, 3, 512, 512])\n",
      "tensor(0.2760, grad_fn=<MeanBackward0>)\n"
     ]
    },
    {
     "name": "stderr",
     "output_type": "stream",
     "text": [
      "  2%|▏         | 1/51 [00:01<01:27,  1.76s/it]"
     ]
    },
    {
     "name": "stdout",
     "output_type": "stream",
     "text": [
      "Image shape: torch.Size([1, 3, 512, 512]) | Mask shape: torch.Size([1, 3, 512, 512])\n",
      "Predicted shape: torch.Size([1, 3, 512, 512])\n",
      "tensor(0.2510, grad_fn=<MeanBackward0>)\n"
     ]
    },
    {
     "name": "stderr",
     "output_type": "stream",
     "text": [
      "  4%|▍         | 2/51 [00:03<01:20,  1.64s/it]"
     ]
    },
    {
     "name": "stdout",
     "output_type": "stream",
     "text": [
      "Image shape: torch.Size([1, 3, 512, 512]) | Mask shape: torch.Size([1, 3, 512, 512])\n",
      "Predicted shape: torch.Size([1, 3, 512, 512])\n",
      "tensor(0.2897, grad_fn=<MeanBackward0>)\n"
     ]
    },
    {
     "name": "stderr",
     "output_type": "stream",
     "text": [
      "  6%|▌         | 3/51 [00:04<01:16,  1.60s/it]"
     ]
    },
    {
     "name": "stdout",
     "output_type": "stream",
     "text": [
      "Image shape: torch.Size([1, 3, 512, 512]) | Mask shape: torch.Size([1, 3, 512, 512])\n",
      "Predicted shape: torch.Size([1, 3, 512, 512])\n",
      "tensor(0.3000, grad_fn=<MeanBackward0>)\n"
     ]
    },
    {
     "name": "stderr",
     "output_type": "stream",
     "text": [
      "  8%|▊         | 4/51 [00:06<01:16,  1.62s/it]"
     ]
    },
    {
     "name": "stdout",
     "output_type": "stream",
     "text": [
      "Image shape: torch.Size([1, 3, 512, 512]) | Mask shape: torch.Size([1, 3, 512, 512])\n",
      "Predicted shape: torch.Size([1, 3, 512, 512])\n",
      "tensor(0.3218, grad_fn=<MeanBackward0>)\n"
     ]
    },
    {
     "name": "stderr",
     "output_type": "stream",
     "text": [
      " 10%|▉         | 5/51 [00:08<01:14,  1.62s/it]"
     ]
    },
    {
     "name": "stdout",
     "output_type": "stream",
     "text": [
      "Image shape: torch.Size([1, 3, 512, 512]) | Mask shape: torch.Size([1, 3, 512, 512])\n",
      "Predicted shape: torch.Size([1, 3, 512, 512])\n",
      "tensor(0.1749, grad_fn=<MeanBackward0>)\n"
     ]
    },
    {
     "name": "stderr",
     "output_type": "stream",
     "text": [
      " 12%|█▏        | 6/51 [00:09<01:13,  1.63s/it]"
     ]
    },
    {
     "name": "stdout",
     "output_type": "stream",
     "text": [
      "Image shape: torch.Size([1, 3, 512, 512]) | Mask shape: torch.Size([1, 3, 512, 512])\n",
      "Predicted shape: torch.Size([1, 3, 512, 512])\n",
      "tensor(0.1470, grad_fn=<MeanBackward0>)\n"
     ]
    },
    {
     "name": "stderr",
     "output_type": "stream",
     "text": [
      " 14%|█▎        | 7/51 [00:11<01:11,  1.63s/it]"
     ]
    },
    {
     "name": "stdout",
     "output_type": "stream",
     "text": [
      "Image shape: torch.Size([1, 3, 512, 512]) | Mask shape: torch.Size([1, 3, 512, 512])\n",
      "Predicted shape: torch.Size([1, 3, 512, 512])\n",
      "tensor(0.1530, grad_fn=<MeanBackward0>)\n"
     ]
    },
    {
     "name": "stderr",
     "output_type": "stream",
     "text": [
      " 16%|█▌        | 8/51 [00:13<01:11,  1.67s/it]"
     ]
    },
    {
     "name": "stdout",
     "output_type": "stream",
     "text": [
      "Image shape: torch.Size([1, 3, 512, 512]) | Mask shape: torch.Size([1, 3, 512, 512])\n",
      "Predicted shape: torch.Size([1, 3, 512, 512])\n",
      "tensor(0.1710, grad_fn=<MeanBackward0>)\n"
     ]
    },
    {
     "name": "stderr",
     "output_type": "stream",
     "text": [
      " 18%|█▊        | 9/51 [00:14<01:10,  1.67s/it]"
     ]
    },
    {
     "name": "stdout",
     "output_type": "stream",
     "text": [
      "Image shape: torch.Size([1, 3, 512, 512]) | Mask shape: torch.Size([1, 3, 512, 512])\n",
      "Predicted shape: torch.Size([1, 3, 512, 512])\n",
      "tensor(0.1194, grad_fn=<MeanBackward0>)\n"
     ]
    },
    {
     "name": "stderr",
     "output_type": "stream",
     "text": [
      " 20%|█▉        | 10/51 [00:16<01:09,  1.69s/it]"
     ]
    },
    {
     "name": "stdout",
     "output_type": "stream",
     "text": [
      "Image shape: torch.Size([1, 3, 512, 512]) | Mask shape: torch.Size([1, 3, 512, 512])\n",
      "Predicted shape: torch.Size([1, 3, 512, 512])\n",
      "tensor(0.2020, grad_fn=<MeanBackward0>)\n"
     ]
    },
    {
     "name": "stderr",
     "output_type": "stream",
     "text": [
      " 22%|██▏       | 11/51 [00:18<01:07,  1.69s/it]"
     ]
    },
    {
     "name": "stdout",
     "output_type": "stream",
     "text": [
      "Image shape: torch.Size([1, 3, 512, 512]) | Mask shape: torch.Size([1, 3, 512, 512])\n",
      "Predicted shape: torch.Size([1, 3, 512, 512])\n",
      "tensor(0.2447, grad_fn=<MeanBackward0>)\n"
     ]
    },
    {
     "name": "stderr",
     "output_type": "stream",
     "text": [
      " 24%|██▎       | 12/51 [00:19<01:05,  1.69s/it]"
     ]
    },
    {
     "name": "stdout",
     "output_type": "stream",
     "text": [
      "Image shape: torch.Size([1, 3, 512, 512]) | Mask shape: torch.Size([1, 3, 512, 512])\n",
      "Predicted shape: torch.Size([1, 3, 512, 512])\n",
      "tensor(0.1863, grad_fn=<MeanBackward0>)\n"
     ]
    },
    {
     "name": "stderr",
     "output_type": "stream",
     "text": [
      " 25%|██▌       | 13/51 [00:21<01:07,  1.79s/it]"
     ]
    },
    {
     "name": "stdout",
     "output_type": "stream",
     "text": [
      "Image shape: torch.Size([1, 3, 512, 512]) | Mask shape: torch.Size([1, 3, 512, 512])\n",
      "Predicted shape: torch.Size([1, 3, 512, 512])\n",
      "tensor(0.1349, grad_fn=<MeanBackward0>)\n"
     ]
    },
    {
     "name": "stderr",
     "output_type": "stream",
     "text": [
      " 27%|██▋       | 14/51 [00:23<01:05,  1.76s/it]"
     ]
    },
    {
     "name": "stdout",
     "output_type": "stream",
     "text": [
      "Image shape: torch.Size([1, 3, 512, 512]) | Mask shape: torch.Size([1, 3, 512, 512])\n",
      "Predicted shape: torch.Size([1, 3, 512, 512])\n",
      "tensor(0.0908, grad_fn=<MeanBackward0>)\n"
     ]
    },
    {
     "name": "stderr",
     "output_type": "stream",
     "text": [
      " 29%|██▉       | 15/51 [00:25<01:02,  1.74s/it]"
     ]
    },
    {
     "name": "stdout",
     "output_type": "stream",
     "text": [
      "Image shape: torch.Size([1, 3, 512, 512]) | Mask shape: torch.Size([1, 3, 512, 512])\n",
      "Predicted shape: torch.Size([1, 3, 512, 512])\n",
      "tensor(0.2048, grad_fn=<MeanBackward0>)\n"
     ]
    },
    {
     "name": "stderr",
     "output_type": "stream",
     "text": [
      " 31%|███▏      | 16/51 [00:27<01:01,  1.77s/it]"
     ]
    },
    {
     "name": "stdout",
     "output_type": "stream",
     "text": [
      "Image shape: torch.Size([1, 3, 512, 512]) | Mask shape: torch.Size([1, 3, 512, 512])\n",
      "Predicted shape: torch.Size([1, 3, 512, 512])\n",
      "tensor(0.3139, grad_fn=<MeanBackward0>)\n"
     ]
    },
    {
     "name": "stderr",
     "output_type": "stream",
     "text": [
      " 33%|███▎      | 17/51 [00:28<00:59,  1.75s/it]"
     ]
    },
    {
     "name": "stdout",
     "output_type": "stream",
     "text": [
      "Image shape: torch.Size([1, 3, 512, 512]) | Mask shape: torch.Size([1, 3, 512, 512])\n",
      "Predicted shape: torch.Size([1, 3, 512, 512])\n",
      "tensor(0.2698, grad_fn=<MeanBackward0>)\n"
     ]
    },
    {
     "name": "stderr",
     "output_type": "stream",
     "text": [
      " 35%|███▌      | 18/51 [00:30<00:57,  1.74s/it]"
     ]
    },
    {
     "name": "stdout",
     "output_type": "stream",
     "text": [
      "Image shape: torch.Size([1, 3, 512, 512]) | Mask shape: torch.Size([1, 3, 512, 512])\n",
      "Predicted shape: torch.Size([1, 3, 512, 512])\n",
      "tensor(0.2766, grad_fn=<MeanBackward0>)\n"
     ]
    },
    {
     "name": "stderr",
     "output_type": "stream",
     "text": [
      " 37%|███▋      | 19/51 [00:32<00:55,  1.72s/it]"
     ]
    },
    {
     "name": "stdout",
     "output_type": "stream",
     "text": [
      "Image shape: torch.Size([1, 3, 512, 512]) | Mask shape: torch.Size([1, 3, 512, 512])\n",
      "Predicted shape: torch.Size([1, 3, 512, 512])\n",
      "tensor(0.3278, grad_fn=<MeanBackward0>)\n"
     ]
    },
    {
     "name": "stderr",
     "output_type": "stream",
     "text": [
      " 39%|███▉      | 20/51 [00:34<00:53,  1.74s/it]"
     ]
    },
    {
     "name": "stdout",
     "output_type": "stream",
     "text": [
      "Image shape: torch.Size([1, 3, 512, 512]) | Mask shape: torch.Size([1, 3, 512, 512])\n",
      "Predicted shape: torch.Size([1, 3, 512, 512])\n",
      "tensor(0.2779, grad_fn=<MeanBackward0>)\n"
     ]
    },
    {
     "name": "stderr",
     "output_type": "stream",
     "text": [
      " 41%|████      | 21/51 [00:35<00:53,  1.78s/it]"
     ]
    },
    {
     "name": "stdout",
     "output_type": "stream",
     "text": [
      "Image shape: torch.Size([1, 3, 512, 512]) | Mask shape: torch.Size([1, 3, 512, 512])\n",
      "Predicted shape: torch.Size([1, 3, 512, 512])\n",
      "tensor(0.2304, grad_fn=<MeanBackward0>)\n"
     ]
    },
    {
     "name": "stderr",
     "output_type": "stream",
     "text": [
      " 43%|████▎     | 22/51 [00:38<00:55,  1.91s/it]"
     ]
    },
    {
     "name": "stdout",
     "output_type": "stream",
     "text": [
      "Image shape: torch.Size([1, 3, 512, 512]) | Mask shape: torch.Size([1, 3, 512, 512])\n",
      "Predicted shape: torch.Size([1, 3, 512, 512])\n",
      "tensor(0.2336, grad_fn=<MeanBackward0>)\n"
     ]
    },
    {
     "name": "stderr",
     "output_type": "stream",
     "text": [
      " 45%|████▌     | 23/51 [00:39<00:52,  1.86s/it]"
     ]
    },
    {
     "name": "stdout",
     "output_type": "stream",
     "text": [
      "Image shape: torch.Size([1, 3, 512, 512]) | Mask shape: torch.Size([1, 3, 512, 512])\n",
      "Predicted shape: torch.Size([1, 3, 512, 512])\n",
      "tensor(0.2507, grad_fn=<MeanBackward0>)\n"
     ]
    },
    {
     "name": "stderr",
     "output_type": "stream",
     "text": [
      " 47%|████▋     | 24/51 [00:41<00:49,  1.83s/it]"
     ]
    },
    {
     "name": "stdout",
     "output_type": "stream",
     "text": [
      "Image shape: torch.Size([1, 3, 512, 512]) | Mask shape: torch.Size([1, 3, 512, 512])\n",
      "Predicted shape: torch.Size([1, 3, 512, 512])\n",
      "tensor(0.2585, grad_fn=<MeanBackward0>)\n"
     ]
    },
    {
     "name": "stderr",
     "output_type": "stream",
     "text": [
      " 49%|████▉     | 25/51 [00:43<00:46,  1.81s/it]"
     ]
    },
    {
     "name": "stdout",
     "output_type": "stream",
     "text": [
      "Image shape: torch.Size([1, 3, 512, 512]) | Mask shape: torch.Size([1, 3, 512, 512])\n",
      "Predicted shape: torch.Size([1, 3, 512, 512])\n",
      "tensor(0.2592, grad_fn=<MeanBackward0>)\n"
     ]
    },
    {
     "name": "stderr",
     "output_type": "stream",
     "text": [
      " 51%|█████     | 26/51 [00:45<00:45,  1.82s/it]"
     ]
    },
    {
     "name": "stdout",
     "output_type": "stream",
     "text": [
      "Image shape: torch.Size([1, 3, 512, 512]) | Mask shape: torch.Size([1, 3, 512, 512])\n",
      "Predicted shape: torch.Size([1, 3, 512, 512])\n",
      "tensor(0.2606, grad_fn=<MeanBackward0>)\n"
     ]
    },
    {
     "name": "stderr",
     "output_type": "stream",
     "text": [
      " 53%|█████▎    | 27/51 [00:47<00:43,  1.80s/it]"
     ]
    },
    {
     "name": "stdout",
     "output_type": "stream",
     "text": [
      "Image shape: torch.Size([1, 3, 512, 512]) | Mask shape: torch.Size([1, 3, 512, 512])\n",
      "Predicted shape: torch.Size([1, 3, 512, 512])\n",
      "tensor(0.2967, grad_fn=<MeanBackward0>)\n"
     ]
    },
    {
     "name": "stderr",
     "output_type": "stream",
     "text": [
      " 55%|█████▍    | 28/51 [00:48<00:40,  1.77s/it]"
     ]
    },
    {
     "name": "stdout",
     "output_type": "stream",
     "text": [
      "Image shape: torch.Size([1, 3, 512, 512]) | Mask shape: torch.Size([1, 3, 512, 512])\n",
      "Predicted shape: torch.Size([1, 3, 512, 512])\n",
      "tensor(0.2250, grad_fn=<MeanBackward0>)\n"
     ]
    },
    {
     "name": "stderr",
     "output_type": "stream",
     "text": [
      " 57%|█████▋    | 29/51 [00:50<00:38,  1.74s/it]"
     ]
    },
    {
     "name": "stdout",
     "output_type": "stream",
     "text": [
      "Image shape: torch.Size([1, 3, 512, 512]) | Mask shape: torch.Size([1, 3, 512, 512])\n",
      "Predicted shape: torch.Size([1, 3, 512, 512])\n",
      "tensor(0.1561, grad_fn=<MeanBackward0>)\n"
     ]
    },
    {
     "name": "stderr",
     "output_type": "stream",
     "text": [
      " 59%|█████▉    | 30/51 [00:52<00:36,  1.72s/it]"
     ]
    },
    {
     "name": "stdout",
     "output_type": "stream",
     "text": [
      "Image shape: torch.Size([1, 3, 512, 512]) | Mask shape: torch.Size([1, 3, 512, 512])\n",
      "Predicted shape: torch.Size([1, 3, 512, 512])\n",
      "tensor(0.1466, grad_fn=<MeanBackward0>)\n"
     ]
    },
    {
     "name": "stderr",
     "output_type": "stream",
     "text": [
      " 61%|██████    | 31/51 [00:53<00:34,  1.70s/it]"
     ]
    },
    {
     "name": "stdout",
     "output_type": "stream",
     "text": [
      "Image shape: torch.Size([1, 3, 512, 512]) | Mask shape: torch.Size([1, 3, 512, 512])\n",
      "Predicted shape: torch.Size([1, 3, 512, 512])\n",
      "tensor(0.1365, grad_fn=<MeanBackward0>)\n"
     ]
    },
    {
     "name": "stderr",
     "output_type": "stream",
     "text": [
      " 63%|██████▎   | 32/51 [00:55<00:32,  1.72s/it]"
     ]
    },
    {
     "name": "stdout",
     "output_type": "stream",
     "text": [
      "Image shape: torch.Size([1, 3, 512, 512]) | Mask shape: torch.Size([1, 3, 512, 512])\n",
      "Predicted shape: torch.Size([1, 3, 512, 512])\n",
      "tensor(0.1228, grad_fn=<MeanBackward0>)\n"
     ]
    },
    {
     "name": "stderr",
     "output_type": "stream",
     "text": [
      " 65%|██████▍   | 33/51 [00:57<00:30,  1.69s/it]"
     ]
    },
    {
     "name": "stdout",
     "output_type": "stream",
     "text": [
      "Image shape: torch.Size([1, 3, 512, 512]) | Mask shape: torch.Size([1, 3, 512, 512])\n",
      "Predicted shape: torch.Size([1, 3, 512, 512])\n",
      "tensor(0.1272, grad_fn=<MeanBackward0>)\n"
     ]
    },
    {
     "name": "stderr",
     "output_type": "stream",
     "text": [
      " 67%|██████▋   | 34/51 [00:59<00:30,  1.81s/it]"
     ]
    },
    {
     "name": "stdout",
     "output_type": "stream",
     "text": [
      "Image shape: torch.Size([1, 3, 512, 512]) | Mask shape: torch.Size([1, 3, 512, 512])\n",
      "Predicted shape: torch.Size([1, 3, 512, 512])\n",
      "tensor(0.1561, grad_fn=<MeanBackward0>)\n"
     ]
    },
    {
     "name": "stderr",
     "output_type": "stream",
     "text": [
      " 69%|██████▊   | 35/51 [01:00<00:28,  1.78s/it]"
     ]
    },
    {
     "name": "stdout",
     "output_type": "stream",
     "text": [
      "Image shape: torch.Size([1, 3, 512, 512]) | Mask shape: torch.Size([1, 3, 512, 512])\n",
      "Predicted shape: torch.Size([1, 3, 512, 512])\n",
      "tensor(0.2737, grad_fn=<MeanBackward0>)\n"
     ]
    },
    {
     "name": "stderr",
     "output_type": "stream",
     "text": [
      " 71%|███████   | 36/51 [01:02<00:26,  1.76s/it]"
     ]
    },
    {
     "name": "stdout",
     "output_type": "stream",
     "text": [
      "Image shape: torch.Size([1, 3, 512, 512]) | Mask shape: torch.Size([1, 3, 512, 512])\n",
      "Predicted shape: torch.Size([1, 3, 512, 512])\n",
      "tensor(0.3280, grad_fn=<MeanBackward0>)\n"
     ]
    },
    {
     "name": "stderr",
     "output_type": "stream",
     "text": [
      " 73%|███████▎  | 37/51 [01:04<00:26,  1.88s/it]"
     ]
    },
    {
     "name": "stdout",
     "output_type": "stream",
     "text": [
      "Image shape: torch.Size([1, 3, 512, 512]) | Mask shape: torch.Size([1, 3, 512, 512])\n",
      "Predicted shape: torch.Size([1, 3, 512, 512])\n",
      "tensor(0.2411, grad_fn=<MeanBackward0>)\n"
     ]
    },
    {
     "name": "stderr",
     "output_type": "stream",
     "text": [
      " 75%|███████▍  | 38/51 [01:06<00:24,  1.89s/it]"
     ]
    },
    {
     "name": "stdout",
     "output_type": "stream",
     "text": [
      "Image shape: torch.Size([1, 3, 512, 512]) | Mask shape: torch.Size([1, 3, 512, 512])\n",
      "Predicted shape: torch.Size([1, 3, 512, 512])\n",
      "tensor(0.2461, grad_fn=<MeanBackward0>)\n"
     ]
    },
    {
     "name": "stderr",
     "output_type": "stream",
     "text": [
      " 76%|███████▋  | 39/51 [01:08<00:22,  1.87s/it]"
     ]
    },
    {
     "name": "stdout",
     "output_type": "stream",
     "text": [
      "Image shape: torch.Size([1, 3, 512, 512]) | Mask shape: torch.Size([1, 3, 512, 512])\n",
      "Predicted shape: torch.Size([1, 3, 512, 512])\n",
      "tensor(0.2815, grad_fn=<MeanBackward0>)\n"
     ]
    },
    {
     "name": "stderr",
     "output_type": "stream",
     "text": [
      " 78%|███████▊  | 40/51 [01:10<00:20,  1.83s/it]"
     ]
    },
    {
     "name": "stdout",
     "output_type": "stream",
     "text": [
      "Image shape: torch.Size([1, 3, 512, 512]) | Mask shape: torch.Size([1, 3, 512, 512])\n",
      "Predicted shape: torch.Size([1, 3, 512, 512])\n",
      "tensor(0.3256, grad_fn=<MeanBackward0>)\n"
     ]
    },
    {
     "name": "stderr",
     "output_type": "stream",
     "text": [
      " 80%|████████  | 41/51 [01:11<00:17,  1.80s/it]"
     ]
    },
    {
     "name": "stdout",
     "output_type": "stream",
     "text": [
      "Image shape: torch.Size([1, 3, 512, 512]) | Mask shape: torch.Size([1, 3, 512, 512])\n",
      "Predicted shape: torch.Size([1, 3, 512, 512])\n",
      "tensor(0.2476, grad_fn=<MeanBackward0>)\n"
     ]
    },
    {
     "name": "stderr",
     "output_type": "stream",
     "text": [
      " 82%|████████▏ | 42/51 [01:13<00:15,  1.76s/it]"
     ]
    },
    {
     "name": "stdout",
     "output_type": "stream",
     "text": [
      "Image shape: torch.Size([1, 3, 512, 512]) | Mask shape: torch.Size([1, 3, 512, 512])\n",
      "Predicted shape: torch.Size([1, 3, 512, 512])\n",
      "tensor(0.1858, grad_fn=<MeanBackward0>)\n"
     ]
    },
    {
     "name": "stderr",
     "output_type": "stream",
     "text": [
      " 84%|████████▍ | 43/51 [01:15<00:14,  1.80s/it]"
     ]
    },
    {
     "name": "stdout",
     "output_type": "stream",
     "text": [
      "Image shape: torch.Size([1, 3, 512, 512]) | Mask shape: torch.Size([1, 3, 512, 512])\n",
      "Predicted shape: torch.Size([1, 3, 512, 512])\n",
      "tensor(0.1286, grad_fn=<MeanBackward0>)\n"
     ]
    },
    {
     "name": "stderr",
     "output_type": "stream",
     "text": [
      " 86%|████████▋ | 44/51 [01:17<00:13,  1.88s/it]"
     ]
    },
    {
     "name": "stdout",
     "output_type": "stream",
     "text": [
      "Image shape: torch.Size([1, 3, 512, 512]) | Mask shape: torch.Size([1, 3, 512, 512])\n",
      "Predicted shape: torch.Size([1, 3, 512, 512])\n",
      "tensor(0.1230, grad_fn=<MeanBackward0>)\n"
     ]
    },
    {
     "name": "stderr",
     "output_type": "stream",
     "text": [
      " 88%|████████▊ | 45/51 [01:19<00:11,  1.87s/it]"
     ]
    },
    {
     "name": "stdout",
     "output_type": "stream",
     "text": [
      "Image shape: torch.Size([1, 3, 512, 512]) | Mask shape: torch.Size([1, 3, 512, 512])\n",
      "Predicted shape: torch.Size([1, 3, 512, 512])\n",
      "tensor(0.1454, grad_fn=<MeanBackward0>)\n"
     ]
    },
    {
     "name": "stderr",
     "output_type": "stream",
     "text": [
      " 90%|█████████ | 46/51 [01:21<00:09,  1.83s/it]"
     ]
    },
    {
     "name": "stdout",
     "output_type": "stream",
     "text": [
      "Image shape: torch.Size([1, 3, 512, 512]) | Mask shape: torch.Size([1, 3, 512, 512])\n",
      "Predicted shape: torch.Size([1, 3, 512, 512])\n",
      "tensor(0.2701, grad_fn=<MeanBackward0>)\n"
     ]
    },
    {
     "name": "stderr",
     "output_type": "stream",
     "text": [
      " 92%|█████████▏| 47/51 [01:22<00:07,  1.78s/it]"
     ]
    },
    {
     "name": "stdout",
     "output_type": "stream",
     "text": [
      "Image shape: torch.Size([1, 3, 512, 512]) | Mask shape: torch.Size([1, 3, 512, 512])\n",
      "Predicted shape: torch.Size([1, 3, 512, 512])\n",
      "tensor(0.3332, grad_fn=<MeanBackward0>)\n"
     ]
    },
    {
     "name": "stderr",
     "output_type": "stream",
     "text": [
      " 94%|█████████▍| 48/51 [01:24<00:05,  1.76s/it]"
     ]
    },
    {
     "name": "stdout",
     "output_type": "stream",
     "text": [
      "Image shape: torch.Size([1, 3, 512, 512]) | Mask shape: torch.Size([1, 3, 512, 512])\n",
      "Predicted shape: torch.Size([1, 3, 512, 512])\n",
      "tensor(0.3141, grad_fn=<MeanBackward0>)\n"
     ]
    },
    {
     "name": "stderr",
     "output_type": "stream",
     "text": [
      " 96%|█████████▌| 49/51 [01:26<00:03,  1.83s/it]"
     ]
    },
    {
     "name": "stdout",
     "output_type": "stream",
     "text": [
      "Image shape: torch.Size([1, 3, 512, 512]) | Mask shape: torch.Size([1, 3, 512, 512])\n",
      "Predicted shape: torch.Size([1, 3, 512, 512])\n",
      "tensor(0.3096, grad_fn=<MeanBackward0>)\n"
     ]
    },
    {
     "name": "stderr",
     "output_type": "stream",
     "text": [
      " 98%|█████████▊| 50/51 [01:28<00:01,  1.82s/it]"
     ]
    },
    {
     "name": "stdout",
     "output_type": "stream",
     "text": [
      "Image shape: torch.Size([1, 3, 512, 512]) | Mask shape: torch.Size([1, 3, 512, 512])\n",
      "Predicted shape: torch.Size([1, 3, 512, 512])\n",
      "tensor(0., grad_fn=<MeanBackward0>)\n"
     ]
    },
    {
     "name": "stderr",
     "output_type": "stream",
     "text": [
      "100%|██████████| 51/51 [01:30<00:00,  1.77s/it]\n"
     ]
    },
    {
     "name": "stdout",
     "output_type": "stream",
     "text": [
      "Epoch [1/3], Loss: 0.2225\n"
     ]
    },
    {
     "name": "stderr",
     "output_type": "stream",
     "text": [
      "  0%|          | 0/51 [00:00<?, ?it/s]"
     ]
    },
    {
     "name": "stdout",
     "output_type": "stream",
     "text": [
      "Image shape: torch.Size([1, 3, 512, 512]) | Mask shape: torch.Size([1, 3, 512, 512])\n",
      "Predicted shape: torch.Size([1, 3, 512, 512])\n",
      "tensor(0.2760, grad_fn=<MeanBackward0>)\n"
     ]
    },
    {
     "name": "stderr",
     "output_type": "stream",
     "text": [
      "  2%|▏         | 1/51 [00:01<01:38,  1.98s/it]"
     ]
    },
    {
     "name": "stdout",
     "output_type": "stream",
     "text": [
      "Image shape: torch.Size([1, 3, 512, 512]) | Mask shape: torch.Size([1, 3, 512, 512])\n",
      "Predicted shape: torch.Size([1, 3, 512, 512])\n",
      "tensor(0.2510, grad_fn=<MeanBackward0>)\n"
     ]
    },
    {
     "name": "stderr",
     "output_type": "stream",
     "text": [
      "  4%|▍         | 2/51 [00:03<01:30,  1.85s/it]"
     ]
    },
    {
     "name": "stdout",
     "output_type": "stream",
     "text": [
      "Image shape: torch.Size([1, 3, 512, 512]) | Mask shape: torch.Size([1, 3, 512, 512])\n",
      "Predicted shape: torch.Size([1, 3, 512, 512])\n",
      "tensor(0.2897, grad_fn=<MeanBackward0>)\n"
     ]
    },
    {
     "name": "stderr",
     "output_type": "stream",
     "text": [
      "  6%|▌         | 3/51 [00:05<01:27,  1.82s/it]"
     ]
    },
    {
     "name": "stdout",
     "output_type": "stream",
     "text": [
      "Image shape: torch.Size([1, 3, 512, 512]) | Mask shape: torch.Size([1, 3, 512, 512])\n",
      "Predicted shape: torch.Size([1, 3, 512, 512])\n",
      "tensor(0.3000, grad_fn=<MeanBackward0>)\n"
     ]
    },
    {
     "name": "stderr",
     "output_type": "stream",
     "text": [
      "  8%|▊         | 4/51 [00:07<01:25,  1.82s/it]"
     ]
    },
    {
     "name": "stdout",
     "output_type": "stream",
     "text": [
      "Image shape: torch.Size([1, 3, 512, 512]) | Mask shape: torch.Size([1, 3, 512, 512])\n",
      "Predicted shape: torch.Size([1, 3, 512, 512])\n",
      "tensor(0.3218, grad_fn=<MeanBackward0>)\n"
     ]
    },
    {
     "name": "stderr",
     "output_type": "stream",
     "text": [
      " 10%|▉         | 5/51 [00:09<01:26,  1.89s/it]"
     ]
    },
    {
     "name": "stdout",
     "output_type": "stream",
     "text": [
      "Image shape: torch.Size([1, 3, 512, 512]) | Mask shape: torch.Size([1, 3, 512, 512])\n",
      "Predicted shape: torch.Size([1, 3, 512, 512])\n",
      "tensor(0.1749, grad_fn=<MeanBackward0>)\n"
     ]
    },
    {
     "name": "stderr",
     "output_type": "stream",
     "text": [
      " 12%|█▏        | 6/51 [00:11<01:25,  1.91s/it]"
     ]
    },
    {
     "name": "stdout",
     "output_type": "stream",
     "text": [
      "Image shape: torch.Size([1, 3, 512, 512]) | Mask shape: torch.Size([1, 3, 512, 512])\n",
      "Predicted shape: torch.Size([1, 3, 512, 512])\n",
      "tensor(0.1470, grad_fn=<MeanBackward0>)\n"
     ]
    },
    {
     "name": "stderr",
     "output_type": "stream",
     "text": [
      " 14%|█▎        | 7/51 [00:13<01:31,  2.08s/it]"
     ]
    },
    {
     "name": "stdout",
     "output_type": "stream",
     "text": [
      "Image shape: torch.Size([1, 3, 512, 512]) | Mask shape: torch.Size([1, 3, 512, 512])\n",
      "Predicted shape: torch.Size([1, 3, 512, 512])\n",
      "tensor(0.1530, grad_fn=<MeanBackward0>)\n"
     ]
    },
    {
     "name": "stderr",
     "output_type": "stream",
     "text": [
      " 16%|█▌        | 8/51 [00:15<01:28,  2.06s/it]"
     ]
    },
    {
     "name": "stdout",
     "output_type": "stream",
     "text": [
      "Image shape: torch.Size([1, 3, 512, 512]) | Mask shape: torch.Size([1, 3, 512, 512])\n",
      "Predicted shape: torch.Size([1, 3, 512, 512])\n",
      "tensor(0.1710, grad_fn=<MeanBackward0>)\n"
     ]
    },
    {
     "name": "stderr",
     "output_type": "stream",
     "text": [
      " 18%|█▊        | 9/51 [00:17<01:26,  2.06s/it]"
     ]
    },
    {
     "name": "stdout",
     "output_type": "stream",
     "text": [
      "Image shape: torch.Size([1, 3, 512, 512]) | Mask shape: torch.Size([1, 3, 512, 512])\n",
      "Predicted shape: torch.Size([1, 3, 512, 512])\n",
      "tensor(0.1195, grad_fn=<MeanBackward0>)\n"
     ]
    },
    {
     "name": "stderr",
     "output_type": "stream",
     "text": [
      " 20%|█▉        | 10/51 [00:19<01:24,  2.06s/it]"
     ]
    },
    {
     "name": "stdout",
     "output_type": "stream",
     "text": [
      "Image shape: torch.Size([1, 3, 512, 512]) | Mask shape: torch.Size([1, 3, 512, 512])\n",
      "Predicted shape: torch.Size([1, 3, 512, 512])\n",
      "tensor(0.2020, grad_fn=<MeanBackward0>)\n"
     ]
    },
    {
     "name": "stderr",
     "output_type": "stream",
     "text": [
      " 22%|██▏       | 11/51 [00:21<01:22,  2.07s/it]"
     ]
    },
    {
     "name": "stdout",
     "output_type": "stream",
     "text": [
      "Image shape: torch.Size([1, 3, 512, 512]) | Mask shape: torch.Size([1, 3, 512, 512])\n",
      "Predicted shape: torch.Size([1, 3, 512, 512])\n",
      "tensor(0.2447, grad_fn=<MeanBackward0>)\n"
     ]
    },
    {
     "name": "stderr",
     "output_type": "stream",
     "text": [
      " 24%|██▎       | 12/51 [00:24<01:20,  2.06s/it]"
     ]
    },
    {
     "name": "stdout",
     "output_type": "stream",
     "text": [
      "Image shape: torch.Size([1, 3, 512, 512]) | Mask shape: torch.Size([1, 3, 512, 512])\n",
      "Predicted shape: torch.Size([1, 3, 512, 512])\n",
      "tensor(0.1863, grad_fn=<MeanBackward0>)\n"
     ]
    },
    {
     "name": "stderr",
     "output_type": "stream",
     "text": [
      " 25%|██▌       | 13/51 [00:26<01:21,  2.15s/it]"
     ]
    },
    {
     "name": "stdout",
     "output_type": "stream",
     "text": [
      "Image shape: torch.Size([1, 3, 512, 512]) | Mask shape: torch.Size([1, 3, 512, 512])\n",
      "Predicted shape: torch.Size([1, 3, 512, 512])\n",
      "tensor(0.1349, grad_fn=<MeanBackward0>)\n"
     ]
    },
    {
     "name": "stderr",
     "output_type": "stream",
     "text": [
      " 27%|██▋       | 14/51 [00:28<01:20,  2.18s/it]"
     ]
    },
    {
     "name": "stdout",
     "output_type": "stream",
     "text": [
      "Image shape: torch.Size([1, 3, 512, 512]) | Mask shape: torch.Size([1, 3, 512, 512])\n",
      "Predicted shape: torch.Size([1, 3, 512, 512])\n",
      "tensor(0.0909, grad_fn=<MeanBackward0>)\n"
     ]
    },
    {
     "name": "stderr",
     "output_type": "stream",
     "text": [
      " 29%|██▉       | 15/51 [00:30<01:16,  2.12s/it]"
     ]
    },
    {
     "name": "stdout",
     "output_type": "stream",
     "text": [
      "Image shape: torch.Size([1, 3, 512, 512]) | Mask shape: torch.Size([1, 3, 512, 512])\n",
      "Predicted shape: torch.Size([1, 3, 512, 512])\n",
      "tensor(0.2048, grad_fn=<MeanBackward0>)\n"
     ]
    },
    {
     "name": "stderr",
     "output_type": "stream",
     "text": [
      " 31%|███▏      | 16/51 [00:32<01:15,  2.17s/it]"
     ]
    },
    {
     "name": "stdout",
     "output_type": "stream",
     "text": [
      "Image shape: torch.Size([1, 3, 512, 512]) | Mask shape: torch.Size([1, 3, 512, 512])\n",
      "Predicted shape: torch.Size([1, 3, 512, 512])\n",
      "tensor(0.3139, grad_fn=<MeanBackward0>)\n"
     ]
    },
    {
     "name": "stderr",
     "output_type": "stream",
     "text": [
      " 33%|███▎      | 17/51 [00:34<01:12,  2.12s/it]"
     ]
    },
    {
     "name": "stdout",
     "output_type": "stream",
     "text": [
      "Image shape: torch.Size([1, 3, 512, 512]) | Mask shape: torch.Size([1, 3, 512, 512])\n",
      "Predicted shape: torch.Size([1, 3, 512, 512])\n",
      "tensor(0.2698, grad_fn=<MeanBackward0>)\n"
     ]
    },
    {
     "name": "stderr",
     "output_type": "stream",
     "text": [
      " 35%|███▌      | 18/51 [00:36<01:07,  2.06s/it]"
     ]
    },
    {
     "name": "stdout",
     "output_type": "stream",
     "text": [
      "Image shape: torch.Size([1, 3, 512, 512]) | Mask shape: torch.Size([1, 3, 512, 512])\n",
      "Predicted shape: torch.Size([1, 3, 512, 512])\n",
      "tensor(0.2766, grad_fn=<MeanBackward0>)\n"
     ]
    },
    {
     "name": "stderr",
     "output_type": "stream",
     "text": [
      " 37%|███▋      | 19/51 [00:38<01:05,  2.05s/it]"
     ]
    },
    {
     "name": "stdout",
     "output_type": "stream",
     "text": [
      "Image shape: torch.Size([1, 3, 512, 512]) | Mask shape: torch.Size([1, 3, 512, 512])\n",
      "Predicted shape: torch.Size([1, 3, 512, 512])\n",
      "tensor(0.3278, grad_fn=<MeanBackward0>)\n"
     ]
    },
    {
     "name": "stderr",
     "output_type": "stream",
     "text": [
      " 39%|███▉      | 20/51 [00:40<01:02,  2.03s/it]"
     ]
    },
    {
     "name": "stdout",
     "output_type": "stream",
     "text": [
      "Image shape: torch.Size([1, 3, 512, 512]) | Mask shape: torch.Size([1, 3, 512, 512])\n",
      "Predicted shape: torch.Size([1, 3, 512, 512])\n",
      "tensor(0.2780, grad_fn=<MeanBackward0>)\n"
     ]
    },
    {
     "name": "stderr",
     "output_type": "stream",
     "text": [
      " 41%|████      | 21/51 [00:42<01:00,  2.00s/it]"
     ]
    },
    {
     "name": "stdout",
     "output_type": "stream",
     "text": [
      "Image shape: torch.Size([1, 3, 512, 512]) | Mask shape: torch.Size([1, 3, 512, 512])\n",
      "Predicted shape: torch.Size([1, 3, 512, 512])\n",
      "tensor(0.2320, grad_fn=<MeanBackward0>)\n"
     ]
    },
    {
     "name": "stderr",
     "output_type": "stream",
     "text": [
      " 43%|████▎     | 22/51 [00:44<00:59,  2.05s/it]"
     ]
    },
    {
     "name": "stdout",
     "output_type": "stream",
     "text": [
      "Image shape: torch.Size([1, 3, 512, 512]) | Mask shape: torch.Size([1, 3, 512, 512])\n",
      "Predicted shape: torch.Size([1, 3, 512, 512])\n",
      "tensor(0.2337, grad_fn=<MeanBackward0>)\n"
     ]
    },
    {
     "name": "stderr",
     "output_type": "stream",
     "text": [
      " 45%|████▌     | 23/51 [00:46<00:56,  2.01s/it]"
     ]
    },
    {
     "name": "stdout",
     "output_type": "stream",
     "text": [
      "Image shape: torch.Size([1, 3, 512, 512]) | Mask shape: torch.Size([1, 3, 512, 512])\n",
      "Predicted shape: torch.Size([1, 3, 512, 512])\n",
      "tensor(0.2504, grad_fn=<MeanBackward0>)\n"
     ]
    },
    {
     "name": "stderr",
     "output_type": "stream",
     "text": [
      " 47%|████▋     | 24/51 [00:48<00:54,  2.01s/it]"
     ]
    },
    {
     "name": "stdout",
     "output_type": "stream",
     "text": [
      "Image shape: torch.Size([1, 3, 512, 512]) | Mask shape: torch.Size([1, 3, 512, 512])\n",
      "Predicted shape: torch.Size([1, 3, 512, 512])\n",
      "tensor(0.2584, grad_fn=<MeanBackward0>)\n"
     ]
    },
    {
     "name": "stderr",
     "output_type": "stream",
     "text": [
      " 49%|████▉     | 25/51 [00:50<00:52,  2.01s/it]"
     ]
    },
    {
     "name": "stdout",
     "output_type": "stream",
     "text": [
      "Image shape: torch.Size([1, 3, 512, 512]) | Mask shape: torch.Size([1, 3, 512, 512])\n",
      "Predicted shape: torch.Size([1, 3, 512, 512])\n",
      "tensor(0.2593, grad_fn=<MeanBackward0>)\n"
     ]
    },
    {
     "name": "stderr",
     "output_type": "stream",
     "text": [
      " 51%|█████     | 26/51 [00:52<00:50,  2.03s/it]"
     ]
    },
    {
     "name": "stdout",
     "output_type": "stream",
     "text": [
      "Image shape: torch.Size([1, 3, 512, 512]) | Mask shape: torch.Size([1, 3, 512, 512])\n",
      "Predicted shape: torch.Size([1, 3, 512, 512])\n",
      "tensor(0.2618, grad_fn=<MeanBackward0>)\n"
     ]
    },
    {
     "name": "stderr",
     "output_type": "stream",
     "text": [
      " 53%|█████▎    | 27/51 [00:55<00:49,  2.05s/it]"
     ]
    },
    {
     "name": "stdout",
     "output_type": "stream",
     "text": [
      "Image shape: torch.Size([1, 3, 512, 512]) | Mask shape: torch.Size([1, 3, 512, 512])\n",
      "Predicted shape: torch.Size([1, 3, 512, 512])\n",
      "tensor(0.2969, grad_fn=<MeanBackward0>)\n"
     ]
    },
    {
     "name": "stderr",
     "output_type": "stream",
     "text": [
      " 55%|█████▍    | 28/51 [00:57<00:47,  2.05s/it]"
     ]
    },
    {
     "name": "stdout",
     "output_type": "stream",
     "text": [
      "Image shape: torch.Size([1, 3, 512, 512]) | Mask shape: torch.Size([1, 3, 512, 512])\n",
      "Predicted shape: torch.Size([1, 3, 512, 512])\n",
      "tensor(0.2241, grad_fn=<MeanBackward0>)\n"
     ]
    },
    {
     "name": "stderr",
     "output_type": "stream",
     "text": [
      " 57%|█████▋    | 29/51 [00:59<00:45,  2.05s/it]"
     ]
    },
    {
     "name": "stdout",
     "output_type": "stream",
     "text": [
      "Image shape: torch.Size([1, 3, 512, 512]) | Mask shape: torch.Size([1, 3, 512, 512])\n",
      "Predicted shape: torch.Size([1, 3, 512, 512])\n",
      "tensor(0.1547, grad_fn=<MeanBackward0>)\n"
     ]
    },
    {
     "name": "stderr",
     "output_type": "stream",
     "text": [
      " 59%|█████▉    | 30/51 [01:01<00:44,  2.13s/it]"
     ]
    },
    {
     "name": "stdout",
     "output_type": "stream",
     "text": [
      "Image shape: torch.Size([1, 3, 512, 512]) | Mask shape: torch.Size([1, 3, 512, 512])\n",
      "Predicted shape: torch.Size([1, 3, 512, 512])\n",
      "tensor(0.1460, grad_fn=<MeanBackward0>)\n"
     ]
    },
    {
     "name": "stderr",
     "output_type": "stream",
     "text": [
      " 61%|██████    | 31/51 [01:03<00:41,  2.09s/it]"
     ]
    },
    {
     "name": "stdout",
     "output_type": "stream",
     "text": [
      "Image shape: torch.Size([1, 3, 512, 512]) | Mask shape: torch.Size([1, 3, 512, 512])\n",
      "Predicted shape: torch.Size([1, 3, 512, 512])\n",
      "tensor(0.1364, grad_fn=<MeanBackward0>)\n"
     ]
    },
    {
     "name": "stderr",
     "output_type": "stream",
     "text": [
      " 63%|██████▎   | 32/51 [01:05<00:39,  2.08s/it]"
     ]
    },
    {
     "name": "stdout",
     "output_type": "stream",
     "text": [
      "Image shape: torch.Size([1, 3, 512, 512]) | Mask shape: torch.Size([1, 3, 512, 512])\n",
      "Predicted shape: torch.Size([1, 3, 512, 512])\n",
      "tensor(0.1237, grad_fn=<MeanBackward0>)\n"
     ]
    },
    {
     "name": "stderr",
     "output_type": "stream",
     "text": [
      " 65%|██████▍   | 33/51 [01:07<00:37,  2.07s/it]"
     ]
    },
    {
     "name": "stdout",
     "output_type": "stream",
     "text": [
      "Image shape: torch.Size([1, 3, 512, 512]) | Mask shape: torch.Size([1, 3, 512, 512])\n",
      "Predicted shape: torch.Size([1, 3, 512, 512])\n",
      "tensor(0.1282, grad_fn=<MeanBackward0>)\n"
     ]
    },
    {
     "name": "stderr",
     "output_type": "stream",
     "text": [
      " 67%|██████▋   | 34/51 [01:09<00:34,  2.04s/it]"
     ]
    },
    {
     "name": "stdout",
     "output_type": "stream",
     "text": [
      "Image shape: torch.Size([1, 3, 512, 512]) | Mask shape: torch.Size([1, 3, 512, 512])\n",
      "Predicted shape: torch.Size([1, 3, 512, 512])\n",
      "tensor(0.1563, grad_fn=<MeanBackward0>)\n"
     ]
    },
    {
     "name": "stderr",
     "output_type": "stream",
     "text": [
      " 69%|██████▊   | 35/51 [01:11<00:32,  2.04s/it]"
     ]
    },
    {
     "name": "stdout",
     "output_type": "stream",
     "text": [
      "Image shape: torch.Size([1, 3, 512, 512]) | Mask shape: torch.Size([1, 3, 512, 512])\n",
      "Predicted shape: torch.Size([1, 3, 512, 512])\n",
      "tensor(0.2730, grad_fn=<MeanBackward0>)\n"
     ]
    },
    {
     "name": "stderr",
     "output_type": "stream",
     "text": [
      " 71%|███████   | 36/51 [01:13<00:30,  2.01s/it]"
     ]
    },
    {
     "name": "stdout",
     "output_type": "stream",
     "text": [
      "Image shape: torch.Size([1, 3, 512, 512]) | Mask shape: torch.Size([1, 3, 512, 512])\n",
      "Predicted shape: torch.Size([1, 3, 512, 512])\n",
      "tensor(0.3280, grad_fn=<MeanBackward0>)\n"
     ]
    },
    {
     "name": "stderr",
     "output_type": "stream",
     "text": [
      " 73%|███████▎  | 37/51 [01:15<00:28,  2.02s/it]"
     ]
    },
    {
     "name": "stdout",
     "output_type": "stream",
     "text": [
      "Image shape: torch.Size([1, 3, 512, 512]) | Mask shape: torch.Size([1, 3, 512, 512])\n",
      "Predicted shape: torch.Size([1, 3, 512, 512])\n",
      "tensor(0.2398, grad_fn=<MeanBackward0>)\n"
     ]
    },
    {
     "name": "stderr",
     "output_type": "stream",
     "text": [
      " 75%|███████▍  | 38/51 [01:19<00:32,  2.49s/it]"
     ]
    },
    {
     "name": "stdout",
     "output_type": "stream",
     "text": [
      "Image shape: torch.Size([1, 3, 512, 512]) | Mask shape: torch.Size([1, 3, 512, 512])\n",
      "Predicted shape: torch.Size([1, 3, 512, 512])\n",
      "tensor(0.2453, grad_fn=<MeanBackward0>)\n"
     ]
    },
    {
     "name": "stderr",
     "output_type": "stream",
     "text": [
      " 76%|███████▋  | 39/51 [01:21<00:28,  2.37s/it]"
     ]
    },
    {
     "name": "stdout",
     "output_type": "stream",
     "text": [
      "Image shape: torch.Size([1, 3, 512, 512]) | Mask shape: torch.Size([1, 3, 512, 512])\n",
      "Predicted shape: torch.Size([1, 3, 512, 512])\n",
      "tensor(0.2807, grad_fn=<MeanBackward0>)\n"
     ]
    },
    {
     "name": "stderr",
     "output_type": "stream",
     "text": [
      " 78%|███████▊  | 40/51 [01:23<00:25,  2.28s/it]"
     ]
    },
    {
     "name": "stdout",
     "output_type": "stream",
     "text": [
      "Image shape: torch.Size([1, 3, 512, 512]) | Mask shape: torch.Size([1, 3, 512, 512])\n",
      "Predicted shape: torch.Size([1, 3, 512, 512])\n",
      "tensor(0.3255, grad_fn=<MeanBackward0>)\n"
     ]
    },
    {
     "name": "stderr",
     "output_type": "stream",
     "text": [
      " 80%|████████  | 41/51 [01:25<00:21,  2.20s/it]"
     ]
    },
    {
     "name": "stdout",
     "output_type": "stream",
     "text": [
      "Image shape: torch.Size([1, 3, 512, 512]) | Mask shape: torch.Size([1, 3, 512, 512])\n",
      "Predicted shape: torch.Size([1, 3, 512, 512])\n",
      "tensor(0.2466, grad_fn=<MeanBackward0>)\n"
     ]
    },
    {
     "name": "stderr",
     "output_type": "stream",
     "text": [
      " 82%|████████▏ | 42/51 [01:27<00:19,  2.15s/it]"
     ]
    },
    {
     "name": "stdout",
     "output_type": "stream",
     "text": [
      "Image shape: torch.Size([1, 3, 512, 512]) | Mask shape: torch.Size([1, 3, 512, 512])\n",
      "Predicted shape: torch.Size([1, 3, 512, 512])\n",
      "tensor(0.1852, grad_fn=<MeanBackward0>)\n"
     ]
    },
    {
     "name": "stderr",
     "output_type": "stream",
     "text": [
      " 84%|████████▍ | 43/51 [01:29<00:17,  2.18s/it]"
     ]
    },
    {
     "name": "stdout",
     "output_type": "stream",
     "text": [
      "Image shape: torch.Size([1, 3, 512, 512]) | Mask shape: torch.Size([1, 3, 512, 512])\n",
      "Predicted shape: torch.Size([1, 3, 512, 512])\n",
      "tensor(0.1298, grad_fn=<MeanBackward0>)\n"
     ]
    },
    {
     "name": "stderr",
     "output_type": "stream",
     "text": [
      " 86%|████████▋ | 44/51 [01:31<00:14,  2.14s/it]"
     ]
    },
    {
     "name": "stdout",
     "output_type": "stream",
     "text": [
      "Image shape: torch.Size([1, 3, 512, 512]) | Mask shape: torch.Size([1, 3, 512, 512])\n",
      "Predicted shape: torch.Size([1, 3, 512, 512])\n",
      "tensor(0.1217, grad_fn=<MeanBackward0>)\n"
     ]
    },
    {
     "name": "stderr",
     "output_type": "stream",
     "text": [
      " 88%|████████▊ | 45/51 [01:33<00:12,  2.08s/it]"
     ]
    },
    {
     "name": "stdout",
     "output_type": "stream",
     "text": [
      "Image shape: torch.Size([1, 3, 512, 512]) | Mask shape: torch.Size([1, 3, 512, 512])\n",
      "Predicted shape: torch.Size([1, 3, 512, 512])\n",
      "tensor(0.1417, grad_fn=<MeanBackward0>)\n"
     ]
    },
    {
     "name": "stderr",
     "output_type": "stream",
     "text": [
      " 90%|█████████ | 46/51 [01:35<00:10,  2.05s/it]"
     ]
    },
    {
     "name": "stdout",
     "output_type": "stream",
     "text": [
      "Image shape: torch.Size([1, 3, 512, 512]) | Mask shape: torch.Size([1, 3, 512, 512])\n",
      "Predicted shape: torch.Size([1, 3, 512, 512])\n",
      "tensor(0.2703, grad_fn=<MeanBackward0>)\n"
     ]
    },
    {
     "name": "stderr",
     "output_type": "stream",
     "text": [
      " 92%|█████████▏| 47/51 [01:37<00:08,  2.02s/it]"
     ]
    },
    {
     "name": "stdout",
     "output_type": "stream",
     "text": [
      "Image shape: torch.Size([1, 3, 512, 512]) | Mask shape: torch.Size([1, 3, 512, 512])\n",
      "Predicted shape: torch.Size([1, 3, 512, 512])\n",
      "tensor(0.3332, grad_fn=<MeanBackward0>)\n"
     ]
    },
    {
     "name": "stderr",
     "output_type": "stream",
     "text": [
      " 94%|█████████▍| 48/51 [01:39<00:06,  2.00s/it]"
     ]
    },
    {
     "name": "stdout",
     "output_type": "stream",
     "text": [
      "Image shape: torch.Size([1, 3, 512, 512]) | Mask shape: torch.Size([1, 3, 512, 512])\n",
      "Predicted shape: torch.Size([1, 3, 512, 512])\n",
      "tensor(0.3142, grad_fn=<MeanBackward0>)\n"
     ]
    },
    {
     "name": "stderr",
     "output_type": "stream",
     "text": [
      " 96%|█████████▌| 49/51 [01:41<00:03,  1.99s/it]"
     ]
    },
    {
     "name": "stdout",
     "output_type": "stream",
     "text": [
      "Image shape: torch.Size([1, 3, 512, 512]) | Mask shape: torch.Size([1, 3, 512, 512])\n",
      "Predicted shape: torch.Size([1, 3, 512, 512])\n",
      "tensor(0.3098, grad_fn=<MeanBackward0>)\n"
     ]
    },
    {
     "name": "stderr",
     "output_type": "stream",
     "text": [
      " 98%|█████████▊| 50/51 [01:43<00:01,  1.98s/it]"
     ]
    },
    {
     "name": "stdout",
     "output_type": "stream",
     "text": [
      "Image shape: torch.Size([1, 3, 512, 512]) | Mask shape: torch.Size([1, 3, 512, 512])\n",
      "Predicted shape: torch.Size([1, 3, 512, 512])\n",
      "tensor(0., grad_fn=<MeanBackward0>)\n"
     ]
    },
    {
     "name": "stderr",
     "output_type": "stream",
     "text": [
      "100%|██████████| 51/51 [01:45<00:00,  2.06s/it]\n"
     ]
    },
    {
     "name": "stdout",
     "output_type": "stream",
     "text": [
      "Epoch [2/3], Loss: 0.2224\n"
     ]
    },
    {
     "name": "stderr",
     "output_type": "stream",
     "text": [
      "  0%|          | 0/51 [00:00<?, ?it/s]"
     ]
    },
    {
     "name": "stdout",
     "output_type": "stream",
     "text": [
      "Image shape: torch.Size([1, 3, 512, 512]) | Mask shape: torch.Size([1, 3, 512, 512])\n",
      "Predicted shape: torch.Size([1, 3, 512, 512])\n",
      "tensor(0.2760, grad_fn=<MeanBackward0>)\n"
     ]
    },
    {
     "name": "stderr",
     "output_type": "stream",
     "text": [
      "  2%|▏         | 1/51 [00:01<01:38,  1.98s/it]"
     ]
    },
    {
     "name": "stdout",
     "output_type": "stream",
     "text": [
      "Image shape: torch.Size([1, 3, 512, 512]) | Mask shape: torch.Size([1, 3, 512, 512])\n",
      "Predicted shape: torch.Size([1, 3, 512, 512])\n",
      "tensor(0.2510, grad_fn=<MeanBackward0>)\n"
     ]
    },
    {
     "name": "stderr",
     "output_type": "stream",
     "text": [
      "  4%|▍         | 2/51 [00:04<01:41,  2.08s/it]"
     ]
    },
    {
     "name": "stdout",
     "output_type": "stream",
     "text": [
      "Image shape: torch.Size([1, 3, 512, 512]) | Mask shape: torch.Size([1, 3, 512, 512])\n",
      "Predicted shape: torch.Size([1, 3, 512, 512])\n",
      "tensor(0.2897, grad_fn=<MeanBackward0>)\n"
     ]
    },
    {
     "name": "stderr",
     "output_type": "stream",
     "text": [
      "  6%|▌         | 3/51 [00:06<01:36,  2.02s/it]"
     ]
    },
    {
     "name": "stdout",
     "output_type": "stream",
     "text": [
      "Image shape: torch.Size([1, 3, 512, 512]) | Mask shape: torch.Size([1, 3, 512, 512])\n",
      "Predicted shape: torch.Size([1, 3, 512, 512])\n",
      "tensor(0.3000, grad_fn=<MeanBackward0>)\n"
     ]
    },
    {
     "name": "stderr",
     "output_type": "stream",
     "text": [
      "  8%|▊         | 4/51 [00:08<01:34,  2.01s/it]"
     ]
    },
    {
     "name": "stdout",
     "output_type": "stream",
     "text": [
      "Image shape: torch.Size([1, 3, 512, 512]) | Mask shape: torch.Size([1, 3, 512, 512])\n",
      "Predicted shape: torch.Size([1, 3, 512, 512])\n",
      "tensor(0.3218, grad_fn=<MeanBackward0>)\n"
     ]
    },
    {
     "name": "stderr",
     "output_type": "stream",
     "text": [
      " 10%|▉         | 5/51 [00:10<01:31,  2.00s/it]"
     ]
    },
    {
     "name": "stdout",
     "output_type": "stream",
     "text": [
      "Image shape: torch.Size([1, 3, 512, 512]) | Mask shape: torch.Size([1, 3, 512, 512])\n",
      "Predicted shape: torch.Size([1, 3, 512, 512])\n",
      "tensor(0.1749, grad_fn=<MeanBackward0>)\n"
     ]
    },
    {
     "name": "stderr",
     "output_type": "stream",
     "text": [
      " 12%|█▏        | 6/51 [00:12<01:29,  1.99s/it]"
     ]
    },
    {
     "name": "stdout",
     "output_type": "stream",
     "text": [
      "Image shape: torch.Size([1, 3, 512, 512]) | Mask shape: torch.Size([1, 3, 512, 512])\n",
      "Predicted shape: torch.Size([1, 3, 512, 512])\n",
      "tensor(0.1470, grad_fn=<MeanBackward0>)\n"
     ]
    },
    {
     "name": "stderr",
     "output_type": "stream",
     "text": [
      " 14%|█▎        | 7/51 [00:14<01:27,  1.99s/it]"
     ]
    },
    {
     "name": "stdout",
     "output_type": "stream",
     "text": [
      "Image shape: torch.Size([1, 3, 512, 512]) | Mask shape: torch.Size([1, 3, 512, 512])\n",
      "Predicted shape: torch.Size([1, 3, 512, 512])\n",
      "tensor(0.1530, grad_fn=<MeanBackward0>)\n"
     ]
    },
    {
     "name": "stderr",
     "output_type": "stream",
     "text": [
      " 16%|█▌        | 8/51 [00:15<01:24,  1.98s/it]"
     ]
    },
    {
     "name": "stdout",
     "output_type": "stream",
     "text": [
      "Image shape: torch.Size([1, 3, 512, 512]) | Mask shape: torch.Size([1, 3, 512, 512])\n",
      "Predicted shape: torch.Size([1, 3, 512, 512])\n",
      "tensor(0.1710, grad_fn=<MeanBackward0>)\n"
     ]
    },
    {
     "name": "stderr",
     "output_type": "stream",
     "text": [
      " 18%|█▊        | 9/51 [00:17<01:22,  1.97s/it]"
     ]
    },
    {
     "name": "stdout",
     "output_type": "stream",
     "text": [
      "Image shape: torch.Size([1, 3, 512, 512]) | Mask shape: torch.Size([1, 3, 512, 512])\n",
      "Predicted shape: torch.Size([1, 3, 512, 512])\n",
      "tensor(0.1194, grad_fn=<MeanBackward0>)\n"
     ]
    },
    {
     "name": "stderr",
     "output_type": "stream",
     "text": [
      " 20%|█▉        | 10/51 [00:20<01:23,  2.03s/it]"
     ]
    },
    {
     "name": "stdout",
     "output_type": "stream",
     "text": [
      "Image shape: torch.Size([1, 3, 512, 512]) | Mask shape: torch.Size([1, 3, 512, 512])\n",
      "Predicted shape: torch.Size([1, 3, 512, 512])\n",
      "tensor(0.2020, grad_fn=<MeanBackward0>)\n"
     ]
    },
    {
     "name": "stderr",
     "output_type": "stream",
     "text": [
      " 22%|██▏       | 11/51 [00:22<01:21,  2.03s/it]"
     ]
    },
    {
     "name": "stdout",
     "output_type": "stream",
     "text": [
      "Image shape: torch.Size([1, 3, 512, 512]) | Mask shape: torch.Size([1, 3, 512, 512])\n",
      "Predicted shape: torch.Size([1, 3, 512, 512])\n",
      "tensor(0.2447, grad_fn=<MeanBackward0>)\n"
     ]
    },
    {
     "name": "stderr",
     "output_type": "stream",
     "text": [
      " 24%|██▎       | 12/51 [00:24<01:18,  2.02s/it]"
     ]
    },
    {
     "name": "stdout",
     "output_type": "stream",
     "text": [
      "Image shape: torch.Size([1, 3, 512, 512]) | Mask shape: torch.Size([1, 3, 512, 512])\n",
      "Predicted shape: torch.Size([1, 3, 512, 512])\n",
      "tensor(0.1863, grad_fn=<MeanBackward0>)\n"
     ]
    },
    {
     "name": "stderr",
     "output_type": "stream",
     "text": [
      " 25%|██▌       | 13/51 [00:26<01:16,  2.01s/it]"
     ]
    },
    {
     "name": "stdout",
     "output_type": "stream",
     "text": [
      "Image shape: torch.Size([1, 3, 512, 512]) | Mask shape: torch.Size([1, 3, 512, 512])\n",
      "Predicted shape: torch.Size([1, 3, 512, 512])\n",
      "tensor(0.1349, grad_fn=<MeanBackward0>)\n"
     ]
    },
    {
     "name": "stderr",
     "output_type": "stream",
     "text": [
      " 27%|██▋       | 14/51 [00:28<01:14,  2.01s/it]"
     ]
    },
    {
     "name": "stdout",
     "output_type": "stream",
     "text": [
      "Image shape: torch.Size([1, 3, 512, 512]) | Mask shape: torch.Size([1, 3, 512, 512])\n",
      "Predicted shape: torch.Size([1, 3, 512, 512])\n",
      "tensor(0.0908, grad_fn=<MeanBackward0>)\n"
     ]
    },
    {
     "name": "stderr",
     "output_type": "stream",
     "text": [
      " 29%|██▉       | 15/51 [00:30<01:12,  2.01s/it]"
     ]
    },
    {
     "name": "stdout",
     "output_type": "stream",
     "text": [
      "Image shape: torch.Size([1, 3, 512, 512]) | Mask shape: torch.Size([1, 3, 512, 512])\n",
      "Predicted shape: torch.Size([1, 3, 512, 512])\n",
      "tensor(0.2048, grad_fn=<MeanBackward0>)\n"
     ]
    },
    {
     "name": "stderr",
     "output_type": "stream",
     "text": [
      " 31%|███▏      | 16/51 [00:32<01:09,  1.99s/it]"
     ]
    },
    {
     "name": "stdout",
     "output_type": "stream",
     "text": [
      "Image shape: torch.Size([1, 3, 512, 512]) | Mask shape: torch.Size([1, 3, 512, 512])\n",
      "Predicted shape: torch.Size([1, 3, 512, 512])\n",
      "tensor(0.3139, grad_fn=<MeanBackward0>)\n"
     ]
    },
    {
     "name": "stderr",
     "output_type": "stream",
     "text": [
      " 33%|███▎      | 17/51 [00:34<01:07,  1.98s/it]"
     ]
    },
    {
     "name": "stdout",
     "output_type": "stream",
     "text": [
      "Image shape: torch.Size([1, 3, 512, 512]) | Mask shape: torch.Size([1, 3, 512, 512])\n",
      "Predicted shape: torch.Size([1, 3, 512, 512])\n",
      "tensor(0.2698, grad_fn=<MeanBackward0>)\n"
     ]
    },
    {
     "name": "stderr",
     "output_type": "stream",
     "text": [
      " 35%|███▌      | 18/51 [00:36<01:05,  1.98s/it]"
     ]
    },
    {
     "name": "stdout",
     "output_type": "stream",
     "text": [
      "Image shape: torch.Size([1, 3, 512, 512]) | Mask shape: torch.Size([1, 3, 512, 512])\n",
      "Predicted shape: torch.Size([1, 3, 512, 512])\n",
      "tensor(0.2766, grad_fn=<MeanBackward0>)\n"
     ]
    },
    {
     "name": "stderr",
     "output_type": "stream",
     "text": [
      " 37%|███▋      | 19/51 [00:37<01:02,  1.97s/it]"
     ]
    },
    {
     "name": "stdout",
     "output_type": "stream",
     "text": [
      "Image shape: torch.Size([1, 3, 512, 512]) | Mask shape: torch.Size([1, 3, 512, 512])\n",
      "Predicted shape: torch.Size([1, 3, 512, 512])\n",
      "tensor(0.3278, grad_fn=<MeanBackward0>)\n"
     ]
    },
    {
     "name": "stderr",
     "output_type": "stream",
     "text": [
      " 39%|███▉      | 20/51 [00:40<01:02,  2.03s/it]"
     ]
    },
    {
     "name": "stdout",
     "output_type": "stream",
     "text": [
      "Image shape: torch.Size([1, 3, 512, 512]) | Mask shape: torch.Size([1, 3, 512, 512])\n",
      "Predicted shape: torch.Size([1, 3, 512, 512])\n",
      "tensor(0.2788, grad_fn=<MeanBackward0>)\n"
     ]
    },
    {
     "name": "stderr",
     "output_type": "stream",
     "text": [
      " 41%|████      | 21/51 [00:42<01:00,  2.01s/it]"
     ]
    },
    {
     "name": "stdout",
     "output_type": "stream",
     "text": [
      "Image shape: torch.Size([1, 3, 512, 512]) | Mask shape: torch.Size([1, 3, 512, 512])\n",
      "Predicted shape: torch.Size([1, 3, 512, 512])\n",
      "tensor(0.2324, grad_fn=<MeanBackward0>)\n"
     ]
    },
    {
     "name": "stderr",
     "output_type": "stream",
     "text": [
      " 43%|████▎     | 22/51 [00:44<00:58,  2.00s/it]"
     ]
    },
    {
     "name": "stdout",
     "output_type": "stream",
     "text": [
      "Image shape: torch.Size([1, 3, 512, 512]) | Mask shape: torch.Size([1, 3, 512, 512])\n",
      "Predicted shape: torch.Size([1, 3, 512, 512])\n",
      "tensor(0.2336, grad_fn=<MeanBackward0>)\n"
     ]
    },
    {
     "name": "stderr",
     "output_type": "stream",
     "text": [
      " 45%|████▌     | 23/51 [00:46<00:56,  2.00s/it]"
     ]
    },
    {
     "name": "stdout",
     "output_type": "stream",
     "text": [
      "Image shape: torch.Size([1, 3, 512, 512]) | Mask shape: torch.Size([1, 3, 512, 512])\n",
      "Predicted shape: torch.Size([1, 3, 512, 512])\n",
      "tensor(0.2507, grad_fn=<MeanBackward0>)\n"
     ]
    },
    {
     "name": "stderr",
     "output_type": "stream",
     "text": [
      " 47%|████▋     | 24/51 [00:48<00:53,  1.99s/it]"
     ]
    },
    {
     "name": "stdout",
     "output_type": "stream",
     "text": [
      "Image shape: torch.Size([1, 3, 512, 512]) | Mask shape: torch.Size([1, 3, 512, 512])\n",
      "Predicted shape: torch.Size([1, 3, 512, 512])\n",
      "tensor(0.2583, grad_fn=<MeanBackward0>)\n"
     ]
    },
    {
     "name": "stderr",
     "output_type": "stream",
     "text": [
      " 49%|████▉     | 25/51 [00:50<00:51,  1.99s/it]"
     ]
    },
    {
     "name": "stdout",
     "output_type": "stream",
     "text": [
      "Image shape: torch.Size([1, 3, 512, 512]) | Mask shape: torch.Size([1, 3, 512, 512])\n",
      "Predicted shape: torch.Size([1, 3, 512, 512])\n",
      "tensor(0.2593, grad_fn=<MeanBackward0>)\n"
     ]
    },
    {
     "name": "stderr",
     "output_type": "stream",
     "text": [
      " 51%|█████     | 26/51 [00:52<00:50,  2.01s/it]"
     ]
    },
    {
     "name": "stdout",
     "output_type": "stream",
     "text": [
      "Image shape: torch.Size([1, 3, 512, 512]) | Mask shape: torch.Size([1, 3, 512, 512])\n",
      "Predicted shape: torch.Size([1, 3, 512, 512])\n",
      "tensor(0.2627, grad_fn=<MeanBackward0>)\n"
     ]
    },
    {
     "name": "stderr",
     "output_type": "stream",
     "text": [
      " 53%|█████▎    | 27/51 [00:54<00:50,  2.11s/it]"
     ]
    },
    {
     "name": "stdout",
     "output_type": "stream",
     "text": [
      "Image shape: torch.Size([1, 3, 512, 512]) | Mask shape: torch.Size([1, 3, 512, 512])\n",
      "Predicted shape: torch.Size([1, 3, 512, 512])\n",
      "tensor(0.2966, grad_fn=<MeanBackward0>)\n"
     ]
    },
    {
     "name": "stderr",
     "output_type": "stream",
     "text": [
      " 55%|█████▍    | 28/51 [00:56<00:47,  2.07s/it]"
     ]
    },
    {
     "name": "stdout",
     "output_type": "stream",
     "text": [
      "Image shape: torch.Size([1, 3, 512, 512]) | Mask shape: torch.Size([1, 3, 512, 512])\n",
      "Predicted shape: torch.Size([1, 3, 512, 512])\n",
      "tensor(0.2242, grad_fn=<MeanBackward0>)\n"
     ]
    },
    {
     "name": "stderr",
     "output_type": "stream",
     "text": [
      " 57%|█████▋    | 29/51 [00:58<00:44,  2.03s/it]"
     ]
    },
    {
     "name": "stdout",
     "output_type": "stream",
     "text": [
      "Image shape: torch.Size([1, 3, 512, 512]) | Mask shape: torch.Size([1, 3, 512, 512])\n",
      "Predicted shape: torch.Size([1, 3, 512, 512])\n",
      "tensor(0.1535, grad_fn=<MeanBackward0>)\n"
     ]
    },
    {
     "name": "stderr",
     "output_type": "stream",
     "text": [
      " 59%|█████▉    | 30/51 [01:00<00:42,  2.01s/it]"
     ]
    },
    {
     "name": "stdout",
     "output_type": "stream",
     "text": [
      "Image shape: torch.Size([1, 3, 512, 512]) | Mask shape: torch.Size([1, 3, 512, 512])\n",
      "Predicted shape: torch.Size([1, 3, 512, 512])\n",
      "tensor(0.1440, grad_fn=<MeanBackward0>)\n"
     ]
    },
    {
     "name": "stderr",
     "output_type": "stream",
     "text": [
      " 61%|██████    | 31/51 [01:02<00:39,  2.00s/it]"
     ]
    },
    {
     "name": "stdout",
     "output_type": "stream",
     "text": [
      "Image shape: torch.Size([1, 3, 512, 512]) | Mask shape: torch.Size([1, 3, 512, 512])\n",
      "Predicted shape: torch.Size([1, 3, 512, 512])\n",
      "tensor(0.1357, grad_fn=<MeanBackward0>)\n"
     ]
    },
    {
     "name": "stderr",
     "output_type": "stream",
     "text": [
      " 63%|██████▎   | 32/51 [01:04<00:37,  2.00s/it]"
     ]
    },
    {
     "name": "stdout",
     "output_type": "stream",
     "text": [
      "Image shape: torch.Size([1, 3, 512, 512]) | Mask shape: torch.Size([1, 3, 512, 512])\n",
      "Predicted shape: torch.Size([1, 3, 512, 512])\n",
      "tensor(0.1218, grad_fn=<MeanBackward0>)\n"
     ]
    },
    {
     "name": "stderr",
     "output_type": "stream",
     "text": [
      " 65%|██████▍   | 33/51 [01:06<00:35,  1.98s/it]"
     ]
    },
    {
     "name": "stdout",
     "output_type": "stream",
     "text": [
      "Image shape: torch.Size([1, 3, 512, 512]) | Mask shape: torch.Size([1, 3, 512, 512])\n",
      "Predicted shape: torch.Size([1, 3, 512, 512])\n",
      "tensor(0.1269, grad_fn=<MeanBackward0>)\n"
     ]
    },
    {
     "name": "stderr",
     "output_type": "stream",
     "text": [
      " 67%|██████▋   | 34/51 [01:08<00:33,  1.98s/it]"
     ]
    },
    {
     "name": "stdout",
     "output_type": "stream",
     "text": [
      "Image shape: torch.Size([1, 3, 512, 512]) | Mask shape: torch.Size([1, 3, 512, 512])\n",
      "Predicted shape: torch.Size([1, 3, 512, 512])\n",
      "tensor(0.1559, grad_fn=<MeanBackward0>)\n"
     ]
    },
    {
     "name": "stderr",
     "output_type": "stream",
     "text": [
      " 69%|██████▊   | 35/51 [01:10<00:31,  1.97s/it]"
     ]
    },
    {
     "name": "stdout",
     "output_type": "stream",
     "text": [
      "Image shape: torch.Size([1, 3, 512, 512]) | Mask shape: torch.Size([1, 3, 512, 512])\n",
      "Predicted shape: torch.Size([1, 3, 512, 512])\n",
      "tensor(0.2727, grad_fn=<MeanBackward0>)\n"
     ]
    },
    {
     "name": "stderr",
     "output_type": "stream",
     "text": [
      " 71%|███████   | 36/51 [01:12<00:30,  2.04s/it]"
     ]
    },
    {
     "name": "stdout",
     "output_type": "stream",
     "text": [
      "Image shape: torch.Size([1, 3, 512, 512]) | Mask shape: torch.Size([1, 3, 512, 512])\n",
      "Predicted shape: torch.Size([1, 3, 512, 512])\n",
      "tensor(0.3280, grad_fn=<MeanBackward0>)\n"
     ]
    },
    {
     "name": "stderr",
     "output_type": "stream",
     "text": [
      " 73%|███████▎  | 37/51 [01:14<00:28,  2.03s/it]"
     ]
    },
    {
     "name": "stdout",
     "output_type": "stream",
     "text": [
      "Image shape: torch.Size([1, 3, 512, 512]) | Mask shape: torch.Size([1, 3, 512, 512])\n",
      "Predicted shape: torch.Size([1, 3, 512, 512])\n",
      "tensor(0.2398, grad_fn=<MeanBackward0>)\n"
     ]
    },
    {
     "name": "stderr",
     "output_type": "stream",
     "text": [
      " 75%|███████▍  | 38/51 [01:16<00:26,  2.03s/it]"
     ]
    },
    {
     "name": "stdout",
     "output_type": "stream",
     "text": [
      "Image shape: torch.Size([1, 3, 512, 512]) | Mask shape: torch.Size([1, 3, 512, 512])\n",
      "Predicted shape: torch.Size([1, 3, 512, 512])\n",
      "tensor(0.2447, grad_fn=<MeanBackward0>)\n"
     ]
    },
    {
     "name": "stderr",
     "output_type": "stream",
     "text": [
      " 76%|███████▋  | 39/51 [01:18<00:24,  2.05s/it]"
     ]
    },
    {
     "name": "stdout",
     "output_type": "stream",
     "text": [
      "Image shape: torch.Size([1, 3, 512, 512]) | Mask shape: torch.Size([1, 3, 512, 512])\n",
      "Predicted shape: torch.Size([1, 3, 512, 512])\n",
      "tensor(0.2804, grad_fn=<MeanBackward0>)\n"
     ]
    },
    {
     "name": "stderr",
     "output_type": "stream",
     "text": [
      " 78%|███████▊  | 40/51 [01:20<00:22,  2.05s/it]"
     ]
    },
    {
     "name": "stdout",
     "output_type": "stream",
     "text": [
      "Image shape: torch.Size([1, 3, 512, 512]) | Mask shape: torch.Size([1, 3, 512, 512])\n",
      "Predicted shape: torch.Size([1, 3, 512, 512])\n",
      "tensor(0.3255, grad_fn=<MeanBackward0>)\n"
     ]
    },
    {
     "name": "stderr",
     "output_type": "stream",
     "text": [
      " 80%|████████  | 41/51 [01:22<00:20,  2.04s/it]"
     ]
    },
    {
     "name": "stdout",
     "output_type": "stream",
     "text": [
      "Image shape: torch.Size([1, 3, 512, 512]) | Mask shape: torch.Size([1, 3, 512, 512])\n",
      "Predicted shape: torch.Size([1, 3, 512, 512])\n",
      "tensor(0.2461, grad_fn=<MeanBackward0>)\n"
     ]
    },
    {
     "name": "stderr",
     "output_type": "stream",
     "text": [
      " 82%|████████▏ | 42/51 [01:24<00:18,  2.02s/it]"
     ]
    },
    {
     "name": "stdout",
     "output_type": "stream",
     "text": [
      "Image shape: torch.Size([1, 3, 512, 512]) | Mask shape: torch.Size([1, 3, 512, 512])\n",
      "Predicted shape: torch.Size([1, 3, 512, 512])\n",
      "tensor(0.1852, grad_fn=<MeanBackward0>)\n"
     ]
    },
    {
     "name": "stderr",
     "output_type": "stream",
     "text": [
      " 84%|████████▍ | 43/51 [01:26<00:16,  2.00s/it]"
     ]
    },
    {
     "name": "stdout",
     "output_type": "stream",
     "text": [
      "Image shape: torch.Size([1, 3, 512, 512]) | Mask shape: torch.Size([1, 3, 512, 512])\n",
      "Predicted shape: torch.Size([1, 3, 512, 512])\n",
      "tensor(0.1292, grad_fn=<MeanBackward0>)\n"
     ]
    },
    {
     "name": "stderr",
     "output_type": "stream",
     "text": [
      " 86%|████████▋ | 44/51 [01:28<00:14,  2.07s/it]"
     ]
    },
    {
     "name": "stdout",
     "output_type": "stream",
     "text": [
      "Image shape: torch.Size([1, 3, 512, 512]) | Mask shape: torch.Size([1, 3, 512, 512])\n",
      "Predicted shape: torch.Size([1, 3, 512, 512])\n",
      "tensor(0.1217, grad_fn=<MeanBackward0>)\n"
     ]
    },
    {
     "name": "stderr",
     "output_type": "stream",
     "text": [
      " 88%|████████▊ | 45/51 [01:30<00:12,  2.04s/it]"
     ]
    },
    {
     "name": "stdout",
     "output_type": "stream",
     "text": [
      "Image shape: torch.Size([1, 3, 512, 512]) | Mask shape: torch.Size([1, 3, 512, 512])\n",
      "Predicted shape: torch.Size([1, 3, 512, 512])\n",
      "tensor(0.1413, grad_fn=<MeanBackward0>)\n"
     ]
    },
    {
     "name": "stderr",
     "output_type": "stream",
     "text": [
      " 90%|█████████ | 46/51 [01:32<00:10,  2.04s/it]"
     ]
    },
    {
     "name": "stdout",
     "output_type": "stream",
     "text": [
      "Image shape: torch.Size([1, 3, 512, 512]) | Mask shape: torch.Size([1, 3, 512, 512])\n",
      "Predicted shape: torch.Size([1, 3, 512, 512])\n",
      "tensor(0.2702, grad_fn=<MeanBackward0>)\n"
     ]
    },
    {
     "name": "stderr",
     "output_type": "stream",
     "text": [
      " 92%|█████████▏| 47/51 [01:34<00:08,  2.02s/it]"
     ]
    },
    {
     "name": "stdout",
     "output_type": "stream",
     "text": [
      "Image shape: torch.Size([1, 3, 512, 512]) | Mask shape: torch.Size([1, 3, 512, 512])\n",
      "Predicted shape: torch.Size([1, 3, 512, 512])\n",
      "tensor(0.3332, grad_fn=<MeanBackward0>)\n"
     ]
    },
    {
     "name": "stderr",
     "output_type": "stream",
     "text": [
      " 94%|█████████▍| 48/51 [01:36<00:06,  2.01s/it]"
     ]
    },
    {
     "name": "stdout",
     "output_type": "stream",
     "text": [
      "Image shape: torch.Size([1, 3, 512, 512]) | Mask shape: torch.Size([1, 3, 512, 512])\n",
      "Predicted shape: torch.Size([1, 3, 512, 512])\n",
      "tensor(0.3140, grad_fn=<MeanBackward0>)\n"
     ]
    },
    {
     "name": "stderr",
     "output_type": "stream",
     "text": [
      " 96%|█████████▌| 49/51 [01:38<00:04,  2.01s/it]"
     ]
    },
    {
     "name": "stdout",
     "output_type": "stream",
     "text": [
      "Image shape: torch.Size([1, 3, 512, 512]) | Mask shape: torch.Size([1, 3, 512, 512])\n",
      "Predicted shape: torch.Size([1, 3, 512, 512])\n",
      "tensor(0.3093, grad_fn=<MeanBackward0>)\n"
     ]
    },
    {
     "name": "stderr",
     "output_type": "stream",
     "text": [
      " 98%|█████████▊| 50/51 [01:40<00:01,  1.99s/it]"
     ]
    },
    {
     "name": "stdout",
     "output_type": "stream",
     "text": [
      "Image shape: torch.Size([1, 3, 512, 512]) | Mask shape: torch.Size([1, 3, 512, 512])\n",
      "Predicted shape: torch.Size([1, 3, 512, 512])\n",
      "tensor(0., grad_fn=<MeanBackward0>)\n"
     ]
    },
    {
     "name": "stderr",
     "output_type": "stream",
     "text": [
      "100%|██████████| 51/51 [01:42<00:00,  2.01s/it]"
     ]
    },
    {
     "name": "stdout",
     "output_type": "stream",
     "text": [
      "Epoch [3/3], Loss: 0.2222\n"
     ]
    },
    {
     "name": "stderr",
     "output_type": "stream",
     "text": [
      "\n"
     ]
    }
   ],
>>>>>>> ac884e0 (Update)
   "source": [
    "train(model, dataset, dataset, jaccard, optim, 3)"
   ]
  },
  {
   "cell_type": "markdown",
   "metadata": {},
   "source": [
    "# Test Model"
   ]
  },
  {
   "cell_type": "code",
   "execution_count": null,
   "metadata": {},
   "outputs": [],
   "source": [
    "    "
   ]
  }
 ],
 "metadata": {
  "kernelspec": {
   "display_name": ".venv",
   "language": "python",
   "name": "python3"
  },
  "language_info": {
   "codemirror_mode": {
    "name": "ipython",
    "version": 3
   },
   "file_extension": ".py",
   "mimetype": "text/x-python",
   "name": "python",
   "nbconvert_exporter": "python",
   "pygments_lexer": "ipython3",
   "version": "3.10.14"
  }
 },
 "nbformat": 4,
 "nbformat_minor": 2
}
