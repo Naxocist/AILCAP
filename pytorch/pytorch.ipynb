{
 "cells": [
  {
   "cell_type": "code",
   "execution_count": 54,
   "metadata": {},
   "outputs": [],
   "source": [
    "import matplotlib.pyplot as plt\n",
    "# helper function for data visualization\n",
    "def visualize(**images):\n",
    "\t\"\"\"PLot images in one row.\"\"\"\n",
    "\tn = len(images)\n",
    "\tplt.figure(figsize=(16, 5))\n",
    "\tfor i, (name, image) in enumerate(images.items()):\n",
    "\t\tplt.subplot(1, n, i + 1)\n",
    "\t\tplt.xticks([])\n",
    "\t\tplt.yticks([])\n",
    "\t\tplt.title(' '.join(name.split('_')).title())\n",
    "\t\tplt.imshow(image)\n",
    "\tplt.show()"
   ]
  },
  {
   "cell_type": "code",
   "execution_count": 74,
   "metadata": {},
   "outputs": [],
   "source": [
    "import torch\n",
    "from torch import nn\n",
    "from torch.utils.data import DataLoader, Dataset, random_split\n",
    "from torchvision import datasets\n",
    "from torchvision.transforms import ToTensor, Normalize\n",
    "\n",
    "from glob import glob\n",
    "from pathlib import Path\n",
    "from tifffile import imread\n",
    "import numpy as np"
   ]
  },
  {
   "cell_type": "code",
   "execution_count": 75,
   "metadata": {},
   "outputs": [],
   "source": [
    "class CustomDataset(Dataset):\n",
    "\tdef __init__(self, root, transform=None, target_transform=None):\n",
    "\t\troot = Path(root)\n",
    "\t\tself.transform = transform\n",
    "\t\tself.target_transform = target_transform\n",
    "\n",
    "\t\tself.images_path = glob(str(root / \"images/*\"))\n",
    "\t\tself.masks_path = glob(str(root / \"masks/*\"))\n",
    "\n",
    "\t\tself.images_path.sort()\n",
    "\t\tself.masks_path.sort()\n",
    "\n",
    "\tdef __len__(self):\n",
    "\t\treturn len(self.images_path)\n",
    "\n",
    "\tdef __getitem__(self, idx):\n",
    "\t\timg = imread(self.images_path[idx])\n",
    "\t\tmask = imread(self.masks_path[idx])\n",
    "\n",
    "\t\tif self.transform:\n",
    "\t\t\timg = self.transform(img)\n",
    "\t\tif self.target_transform:\n",
    "\t\t\tlabel = self.target_transform(label)\n",
    "\n",
    "\t\treturn img, mask\n"
   ]
  },
  {
   "cell_type": "code",
   "execution_count": 79,
   "metadata": {},
   "outputs": [],
   "source": [
    "transform = ToTensor()\n",
    "test = CustomDataset(root=r\"D:\\NSC2024\\annotated\\old\\jj\\export\\512\\1\", transform=transform)"
   ]
  },
  {
   "cell_type": "code",
   "execution_count": 80,
   "metadata": {},
   "outputs": [
    {
     "name": "stdout",
     "output_type": "stream",
     "text": [
      "torch.Size([3, 512, 512])\n"
     ]
    }
   ],
   "source": [
    "img, mask = test[0]\n",
    "\n",
    "# visualize(img=img, mask=mask)\n",
    "print(img.shape)"
   ]
  },
  {
   "cell_type": "code",
   "execution_count": 61,
   "metadata": {},
   "outputs": [],
   "source": [
    "loader = DataLoader(dataset=test, batch_size=16, shuffle=True, num_workers=0)"
   ]
  },
  {
   "cell_type": "code",
   "execution_count": 47,
   "metadata": {},
   "outputs": [
    {
     "data": {
      "text/plain": [
       "(148, 149)"
      ]
     },
     "execution_count": 47,
     "metadata": {},
     "output_type": "execute_result"
    }
   ],
   "source": [
    "lenA = int(len(test)*.5)\n",
    "a, b = random_split(dataset=test, lengths=[lenA, len(test) - lenA])"
   ]
  },
  {
   "cell_type": "code",
   "execution_count": 62,
   "metadata": {},
   "outputs": [
    {
     "name": "stdout",
     "output_type": "stream",
     "text": [
      "torch.Size([16, 512, 512, 3]) torch.Size([16, 6, 512, 512])\n",
      "torch.Size([16, 512, 512, 3]) torch.Size([16, 6, 512, 512])\n",
      "torch.Size([16, 512, 512, 3]) torch.Size([16, 6, 512, 512])\n",
      "torch.Size([16, 512, 512, 3]) torch.Size([16, 6, 512, 512])\n",
      "torch.Size([16, 512, 512, 3]) torch.Size([16, 6, 512, 512])\n",
      "torch.Size([16, 512, 512, 3]) torch.Size([16, 6, 512, 512])\n",
      "torch.Size([16, 512, 512, 3]) torch.Size([16, 6, 512, 512])\n",
      "torch.Size([16, 512, 512, 3]) torch.Size([16, 6, 512, 512])\n",
      "torch.Size([16, 512, 512, 3]) torch.Size([16, 6, 512, 512])\n",
      "torch.Size([16, 512, 512, 3]) torch.Size([16, 6, 512, 512])\n",
      "torch.Size([16, 512, 512, 3]) torch.Size([16, 6, 512, 512])\n",
      "torch.Size([16, 512, 512, 3]) torch.Size([16, 6, 512, 512])\n",
      "torch.Size([16, 512, 512, 3]) torch.Size([16, 6, 512, 512])\n",
      "torch.Size([16, 512, 512, 3]) torch.Size([16, 6, 512, 512])\n",
      "torch.Size([16, 512, 512, 3]) torch.Size([16, 6, 512, 512])\n",
      "torch.Size([16, 512, 512, 3]) torch.Size([16, 6, 512, 512])\n",
      "torch.Size([16, 512, 512, 3]) torch.Size([16, 6, 512, 512])\n",
      "torch.Size([16, 512, 512, 3]) torch.Size([16, 6, 512, 512])\n",
      "torch.Size([9, 512, 512, 3]) torch.Size([9, 6, 512, 512])\n"
     ]
    }
   ],
   "source": [
    "\n",
    "for batch in loader:\n",
    "\ta, b = batch\n",
    "\tprint(a.shape, b.shape)"
   ]
  },
  {
   "cell_type": "code",
   "execution_count": 82,
   "metadata": {},
   "outputs": [],
   "source": [
    "import segmentation_models_pytorch as smp\n",
    "\n",
    "model = smp.Unet(\n",
    "    encoder_name=\"resnet34\",        # choose encoder, e.g. mobilenet_v2 or efficientnet-b7\n",
    "    encoder_weights=\"imagenet\",     # use `imagenet` pre-trained weights for encoder initialization\n",
    "    in_channels=3,                  # model input channels (1 for gray-scale images, 3 for RGB, etc.)\n",
    "    classes=5,                      # model output channels (number of classes in your dataset)\n",
    ")"
   ]
  },
  {
   "cell_type": "code",
   "execution_count": 83,
   "metadata": {},
   "outputs": [],
   "source": [
    "from segmentation_models_pytorch.encoders import get_preprocessing_fn\n",
    "\n",
    "preprocess_input = get_preprocessing_fn('resnet18', pretrained='imagenet')"
   ]
  },
  {
   "cell_type": "code",
   "execution_count": 85,
   "metadata": {},
   "outputs": [
    {
     "ename": "ValueError",
     "evalue": "operands could not be broadcast together with shapes (1,3,512,512) (3,) ",
     "output_type": "error",
     "traceback": [
      "\u001b[1;31m---------------------------------------------------------------------------\u001b[0m",
      "\u001b[1;31mValueError\u001b[0m                                Traceback (most recent call last)",
      "Cell \u001b[1;32mIn[85], line 1\u001b[0m\n\u001b[1;32m----> 1\u001b[0m p \u001b[38;5;241m=\u001b[39m \u001b[43mpreprocess_input\u001b[49m\u001b[43m(\u001b[49m\u001b[43mimg\u001b[49m\u001b[38;5;241;43m.\u001b[39;49m\u001b[43munsqueeze\u001b[49m\u001b[43m(\u001b[49m\u001b[38;5;241;43m0\u001b[39;49m\u001b[43m)\u001b[49m\u001b[43m)\u001b[49m\n",
      "File \u001b[1;32me:\\miniconda3\\envs\\AILCAP\\lib\\site-packages\\segmentation_models_pytorch\\encoders\\_preprocessing.py:15\u001b[0m, in \u001b[0;36mpreprocess_input\u001b[1;34m(x, mean, std, input_space, input_range, **kwargs)\u001b[0m\n\u001b[0;32m     13\u001b[0m \u001b[38;5;28;01mif\u001b[39;00m mean \u001b[38;5;129;01mis\u001b[39;00m \u001b[38;5;129;01mnot\u001b[39;00m \u001b[38;5;28;01mNone\u001b[39;00m:\n\u001b[0;32m     14\u001b[0m     mean \u001b[38;5;241m=\u001b[39m np\u001b[38;5;241m.\u001b[39marray(mean)\n\u001b[1;32m---> 15\u001b[0m     x \u001b[38;5;241m=\u001b[39m \u001b[43mx\u001b[49m\u001b[43m \u001b[49m\u001b[38;5;241;43m-\u001b[39;49m\u001b[43m \u001b[49m\u001b[43mmean\u001b[49m\n\u001b[0;32m     17\u001b[0m \u001b[38;5;28;01mif\u001b[39;00m std \u001b[38;5;129;01mis\u001b[39;00m \u001b[38;5;129;01mnot\u001b[39;00m \u001b[38;5;28;01mNone\u001b[39;00m:\n\u001b[0;32m     18\u001b[0m     std \u001b[38;5;241m=\u001b[39m np\u001b[38;5;241m.\u001b[39marray(std)\n",
      "\u001b[1;31mValueError\u001b[0m: operands could not be broadcast together with shapes (1,3,512,512) (3,) "
     ]
    }
   ],
   "source": [
    "\n",
    "p = preprocess_input(img.squeeze(0))"
   ]
  }
 ],
 "metadata": {
  "kernelspec": {
   "display_name": "AILCAP",
   "language": "python",
   "name": "python3"
  },
  "language_info": {
   "codemirror_mode": {
    "name": "ipython",
    "version": 3
   },
   "file_extension": ".py",
   "mimetype": "text/x-python",
   "name": "python",
   "nbconvert_exporter": "python",
   "pygments_lexer": "ipython3",
   "version": "3.10.14"
  }
 },
 "nbformat": 4,
 "nbformat_minor": 2
}
